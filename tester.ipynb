{
 "cells": [
  {
   "cell_type": "code",
   "execution_count": 1,
   "id": "8f2819c0",
   "metadata": {},
   "outputs": [],
   "source": [
    "from history import save_history, return_history\n",
    "from model_loader import load_reader_tokenizer_model, load_retriever\n",
    "from answer import get_model_answer_test\n",
    "\n",
    "from text import token, file_path, embed_model_name, llm_model_name"
   ]
  },
  {
   "cell_type": "code",
   "execution_count": 2,
   "id": "294bb0a9",
   "metadata": {},
   "outputs": [
    {
     "name": "stderr",
     "output_type": "stream",
     "text": [
      "Sliding Window Attention is enabled but not implemented for `sdpa`; unexpected results may be encountered.\n",
      "Device set to use cuda:0\n"
     ]
    }
   ],
   "source": [
    "my_retriever = load_retriever(file_path, embed_model_name)\n",
    "my_reader_llm, my_tokenizer = load_reader_tokenizer_model(llm_model_name, api_token=token)"
   ]
  },
  {
   "cell_type": "markdown",
   "id": "cfd692b1",
   "metadata": {},
   "source": [
    "# Case 1.1: Connectivity issue from expected answers."
   ]
  },
  {
   "cell_type": "code",
   "execution_count": 3,
   "id": "56543097",
   "metadata": {},
   "outputs": [],
   "source": [
    "chat_history = []\n",
    "starting_string = \"Hi, how can I help You?\"\n",
    "save_history(chat_history = chat_history, model_answer = starting_string)"
   ]
  },
  {
   "cell_type": "code",
   "execution_count": 4,
   "id": "df2c4c3a",
   "metadata": {},
   "outputs": [],
   "source": [
    "user_prompt = \"Hey, It seems that I am unable to connect to the VPN for some reason\"\n",
    "save_history(chat_history = chat_history, prompt=user_prompt)\n",
    "\n",
    "final_prompt, answer = get_model_answer_test(user_prompt, chat_history, my_retriever, my_tokenizer, my_reader_llm)"
   ]
  },
  {
   "cell_type": "code",
   "execution_count": 5,
   "id": "a03aa694",
   "metadata": {},
   "outputs": [
    {
     "name": "stdout",
     "output_type": "stream",
     "text": [
      "[{'role': 'assistant', 'content': 'Hi, how can I help You?', 'more_info_needed': False}, {'role': 'user', 'content': 'Hey, It seems that I am unable to connect to the VPN for some reason', 'more_info_needed': False}, {'role': 'assistant', 'content': 'Please provide information of Your country, device and operating system.', 'more_info_needed': True}]\n",
      "--------------------------------------------------------------------\n",
      "No final Prompt\n"
     ]
    }
   ],
   "source": [
    "print(chat_history)\n",
    "print('--------------------------------------------------------------------')\n",
    "print(final_prompt)"
   ]
  },
  {
   "cell_type": "code",
   "execution_count": 6,
   "id": "97a43d0b",
   "metadata": {},
   "outputs": [
    {
     "name": "stderr",
     "output_type": "stream",
     "text": [
      "c:\\Cods\\ChatBot\\context.py:28: LangChainDeprecationWarning: The method `BaseRetriever.get_relevant_documents` was deprecated in langchain-core 0.1.46 and will be removed in 1.0. Use :meth:`~invoke` instead.\n",
      "  context_docs = retriever.get_relevant_documents(prompt)\n"
     ]
    }
   ],
   "source": [
    "user_prompt = \"Windows and I am from Lithuania\"\n",
    "save_history(chat_history = chat_history, prompt=user_prompt)\n",
    "\n",
    "final_prompt, answer = get_model_answer_test(user_prompt, chat_history, my_retriever, my_tokenizer, my_reader_llm)\n"
   ]
  },
  {
   "cell_type": "code",
   "execution_count": 7,
   "id": "ac2785c9",
   "metadata": {},
   "outputs": [
    {
     "name": "stdout",
     "output_type": "stream",
     "text": [
      "[{'role': 'assistant', 'content': 'Hi, how can I help You?', 'more_info_needed': False}, {'role': 'user', 'content': 'Hey, It seems that I am unable to connect to the VPN for some reason', 'more_info_needed': False}, {'role': 'assistant', 'content': 'Please provide information of Your country, device and operating system.', 'more_info_needed': True}, {'role': 'user', 'content': 'Windows and I am from Lithuania', 'more_info_needed': False}, {'role': 'assistant', 'content': \"Based on the information provided, there are several potential reasons why you're having trouble connecting to the VPN:\\n\\n1. **Country**: You mentioned being from Lithuania, but the document suggests that NordVPN is based in Panama.\\n\\n2. **Device and Operating System**: You specified that you are using a Windows device.\\n\\n3. **Operating System Version**: The document indicates that NordVPN is compatible with Windows 7, 8.1, 10, and 11.\\n\\nGiven these points, it's likely that the issue lies either with the compatibility of your device and operating system with the NordVPN service, or with the specific features or settings required for splitting tunnels on your device.\\n\\nHere are some troubleshooting steps you can consider:\\n\\n1. **Check Device Compatibility**: Ensure that your Windows version supports the NordVPN service. Update your Windows if necessary.\\n\\n2. **Update NordVPN Software**: Verify that you are using the latest version of the NordVPN app. Follow the instructions in the documentation to update your app.\\n\\n3. **Split Tunneling Configuration**: Refer to the documentation on how to enable split tunneling on your device. For example, on Windows, you need to enable split tunneling via the settings menu.\\n\\n4. **Clear Cache and Cookies**: Sometimes, clearing the cache and cookies on your web browsers can resolve connectivity issues.\\n\\n5. **Restart Computer**: A simple reboot can sometimes resolve temporary connectivity issues.\\n\\nBy addressing these points, you should be able to troubleshoot and potentially resolve the issue with connecting to the NordVPN service.\", 'more_info_needed': False}]\n",
      "--------------------------------------------------------------------\n",
      "<|im_start|>system\n",
      "You are a customer support agent. Using the information contained in the context, give a comprehensive answer to the question. \n",
      "Respond only to the question asked, response should be concise and relevant to the question. \n",
      "Provide full rephrased context of the relevant documents in Your answer if needed. \n",
      "Take the chat history into account when creating the response. Execute case specific instructions if they are present. \n",
      "If the answer is not related to the context or cannot be deduced from the context, do not give an answer and ask for another question.<|im_end|>\n",
      "<|im_start|>user\n",
      "Context: \n",
      "        Conversation history:\n",
      "assistant: \"Hi, how can I help You?\"\n",
      "user: \"Hey, It seems that I am unable to connect to the VPN for some reason\"\n",
      "assistant: \"Please provide information of Your country, device and operating system.\"\n",
      "user: \"Windows and I am from Lithuania\"\n",
      "Useful information: \n",
      "Document no. 1\n",
      "Title: What is Split Tunneling and how to use it?\n",
      "Split tunneling is an option that allows you to have a specific part of your internet connection to be rerouted outside of the VPN. You may find it useful for situations where a VPN connection may be unnecessary, for instance, when dealing with a trusted application.   NordVPN split tunneling is currently available on Windows 7 and 8.1, Windows 10 and 11, Android, and Android TV.  On Windows 7 & 8.1:   Open the settings menu.   Head down to the Split tunneling section, turn it ON, and then press Add apps.     On Windows 10 & 11:   Click on a gear icon in the left-bottom corner.  Choose Split Tunneling settings.  Turn the feature on and choose to add apps.Experiencing issues?Look here, and you'll find the latest updates concerning known issues and how to resolve them.At the moment, it is known that when the split tunneling feature is used, some services still appear to be affected by the VPN. This is related to the fact that although your real IP address does get routed through the excluded application, the DNS servers provided by NordVPN are still in effect, which may cause an issue. We are currently working to resolve this problem.   On Android:  Tap on the profile icon and open the settings menu by tapping on the gear icon.  Head over to the VPN connection settings and choose the Split tunneling option.    On Android TV:​​​​   After you open the NordVPN app, scroll down to the Settings section and click on Trusted apps.  Click on Add apps.  \n",
      "Url: https://support.nordvpn.com/hc/en-us/articles/19618692366865-What-is-Split-Tunneling-and-how-to-use-it\n",
      "\n",
      "Document no. 2\n",
      "Title: Unable to connect to a VPN with the browser extension\n",
      "If you’re unable to connect to NordVPN through Chrome, Edge, or Firefox browser extensions, follow these tips to fix the issue:    Don’t connect more than ten devices to one NordVPN account. NordVPN allows you to establish ten simultaneous connections. If you’re past this number, the browser extension won’t allow you to connect. To solve this issue, disconnect from the VPN on one of your devices (or all devices in one go by changing your password). Afterward, manually connect up to ten devices of your choice.   Make sure to turn off other VPN service extensions or apps. Other extensions may interfere with the proxy settings necessary for the NordVPN extension to work.    Wait a little longer to establish a connection. If you’ve closed the VPN browser extension while you were connected to a VPN server, it may take longer to connect the next time you use it.    Refresh the extension by turning it off and on.   Clear your browser cache and delete cookies. Removing old data or resetting the settings may help solve your connection problems.  Make sure you are using the latest browser extension version.   Restart your computer.   Reinstall the browser extension. \n",
      "Url: https://support.nordvpn.com/hc/en-us/articles/20321119601937-Unable-to-connect-to-a-VPN-with-the-browser-extension\n",
      "\n",
      "Document no. 3\n",
      "Title: TAP driver error when connecting to a VPN\n",
      "To make sure your issue is caused by the TAP driver, you can check the connectivity logs from the NordVPN app:  Open the NordVPN app. Go to Settings -> Advanced -> Run Diagnostics Tool -> Click on Collect Diagnostics and complete the process.  Open the NordVPN app installation folder and find the Diagnostics folder. By default, it is located at C:\\Program Files\\NordVPN\\  You will see a .zip folder with the date of the diagnostics. Example: 2020-07-14 15_24_30Z-logs.zip. Double-click on the .zip folder and locate the service-XXXX-XX-XX.nwl file. Example: service-2020-07-14.nwl.  Double-click on the .nwl file, open it with your favorite text editor, and check for the errors below.  You may notice one of these error messages:   FATAL:All TAP-Windows adapters on this system are currently in use.Usually, restarting the TAP adapter helps in this case. To restart it, follow these steps:1. Go to Control Panel -> Network and Sharing Center -> Change Adapter Settings.2. One of the local area connections will have an under-name TAP-NordVPN Windows Adapter v9.3. Disable it and enable it again. Try to connect now.   FATAL:There are no TAP-Windows adapters on this system or FATAL: Blocking DNS failed.In this case, you should reinstall TAP drivers. You can download them here:Windows 7:https://downloads.nordcdn.com/drivers/windows/7/NordVPNTap/NordVPNTapSetup.exeWindows 10:https://downloads.nordcdn.com/drivers/windows/10/NordVPNTap/NordVPNTapSetup.exe  \n",
      "Url: https://support.nordvpn.com/hc/en-us/articles/19919463833745-TAP-driver-error-when-connecting-to-a-VPN\n",
      "\n",
      "Document no. 4\n",
      "Title: Where is NordVPN based\n",
      "NordVPN is based and operates under the jurisdiction of Panama. There is no mandatory data retention law in Panama, so we do not need to store logs which is perfect for a VPN provider.\n",
      "Url: https://support.nordvpn.com/hc/en-us/articles/19441152966161-Where-is-NordVPN-based\n",
      "\n",
      "Document no. 5\n",
      "Title: Avoiding local internet restrictions on Android\n",
      " Download our application by clicking here.  Switch to Open VPN (TCP). Connect to Obfuscated servers, you can find this option in the Speciality servers folder.  \n",
      "Url: https://support.nordvpn.com/hc/en-us/articles/19475069345553-Avoiding-local-internet-restrictions-on-Android\n",
      "\n",
      "Document no. 6\n",
      "Title: Split Tunneling is not working on NordVPN\n",
      "Find out how to solve this issue below. The allowlisted app has no internet connection If NordVPN’s split tunneling is blocking the internet access on an allowlisted application, follow these steps:   Reset the application. Find the reset instructions in this article.  Reinstall the NordVPN application. In case you are using any antivirus software, allowlist the NordVPN app in the settings of your antivirus app. By default, NordVPN is located in C:\\Program Files\\NordVPN.   Reset the network. Keep in mind that this also resets Wi-Fi networks and passwords, VPN, and APN settings you’ve used before. Here is how you can do that:   Open the NordVPN app, go to Settings, and open the General section.  Find Diagnostics and click on Run Diagnostics Tool. Then, select Network Flush. Lastly, wait for the commands to finish running and restart your computer.  The allowlisted app is still routed through a VPN If you have added the application to the allowlist and it is still routed through a VPN, please contact NordVPN customer support.\n",
      "Url: https://support.nordvpn.com/hc/en-us/articles/20913128327313-Split-Tunneling-is-not-working-on-NordVPN\n",
      "\n",
      "Document no. 7\n",
      "Title: What to do if Amazon is not working with NordVPN\n",
      "If you can’t access Amazon with NordVPN, follow the steps below.  Connect to a different VPN server.  Change the VPN protocol to OpenVPN UDP or TCP. Do a NordVPN DNS leak test while connected to our servers. If the results bring back your IP address, configure your device manually to use private NordVPN DNS servers.  Clear your browser cache. Use a different browser or open Amazon in private browser mode. Disable the Threat Protection feature. If you’re using Threat Protection Pro™, exclude Amazon from the blocked domains list. To do that, go to the Web protection tab in the Threat Protection Pro™ settings and choose to exclude Amazon from threat blocking. Allowlist NordVPN in the settings of your antivirus if you are using one. \n",
      "Url: https://support.nordvpn.com/hc/en-us/articles/20968292007953-What-to-do-if-Amazon-is-not-working-with-NordVPN\n",
      "\n",
      "Document no. 8\n",
      "Title: Checking your device configuration\n",
      "1. Add exceptions for the NordVPN app to your antivirus, cleaner, and power saver applications. Since NordVPN runs in the background when you are connected to VPN, these applications may interfere with its stability or might not let you connect at all.2. Make sure you do not have any firewall apps running. Firewall applications on Android devices use the same VPN interface as the NordVPN app, so it might not be able to connect while a firewall application is active on the same device.3. Try changing the DNS servers: Open the device Settings. Go to Connections and select Wi-Fi. Click the cog icon next to your current network and select Advanced. Change IP settings to Static. In the DNS 1 and DNS 2 fields that appeared, enter the following IP addresses: 103.86.96.100 and 103.86.99.100. Press Save, disconnect from the network, and reconnect for changes to take effect. 4. Try resetting your network settings: Open the device Settings. Go to General management and select Reset. Tap Reset network settings. Press Reset settings. If you use a lock on your device, unlock it to proceed. Tap Reset settings again to reset all network settings. \n",
      "Url: https://support.nordvpn.com/hc/en-us/articles/19925722673297-Checking-your-device-configuration\n",
      "\n",
      "Document no. 9\n",
      "Title: Can I use NordVPN app and NordVPN extension simultaneously?\n",
      "        It is not recommended to connect to both extension and app at the same time since it would create a double connection and can slow your traffic down.However, if you want to use the NordVPN browser extension and app at the same time, you could exclude your browser app (e.g Chrome, Firefox, Edge) from VPN traffic on Windows OS split tunneling feature, connect to VPN on the NordVPN App and NordVPN extension at the same time.  \n",
      "Url: https://support.nordvpn.com/hc/en-us/articles/20321339032465-Can-I-use-NordVPN-app-and-NordVPN-extension-simultaneously\n",
      "\n",
      "Document no. 10\n",
      "Title: Avoiding local internet restrictions on Windows\n",
      "Note: Unfortunately, we are currently experiencing some connectivity issues in the China region as our server configurations for manual connections and applications have recently been blocked. Our developers are aware of the issue and are working on a solution as soon as possible. We apologize for the inconvenience and thank you for your patience.Follow these steps to connect to NordVPN while avoiding local internet restrictions, such as censorship measures. See our list of countries where VPNs are illegal for more information.  Download the NordVPN application. Go into the “Settings” menu of the NordVPN app and switch to the NordLynx protocol. Return to the main screen and press “Quick Connect.”You should now be able to connect. \n",
      "Url: https://support.nordvpn.com/hc/en-us/articles/20398965793681-Avoiding-local-internet-restrictions-on-Windows\n",
      "\n",
      "Document no. 11\n",
      "Title: Troubleshooting NordVPN connectivity on Windows\n",
      "Issues with NordVPN app configuration   Make sure your NordVPN account is active.  Check if you’re using the latest NordVPN application version (7.27.5).   To do so, open the app, click on Settings (the gear icon at the bottom) and you’ll see the app version at the top, right below the Settings headline.   If you are using the older version, uninstall the VPN app and download the latest NordVPN version for Windows.     Switch between TCP and UDP protocols.  Connect to another VPN server. If that does not help, reset the application:   Click on the Settings (gear icon) in the bottom left corner. Click General. Scroll down until you see the Diagnostics section and click Run diagnostics. A new window will open. Select Reset app.  Issues with the Windows OS The issue might lie in the configuration of your Windows OS, its applications, and networks. Check out our article on common NordVPN app issues on Windows. FATAL: Blocking DNS failed error If you are getting a FATAL: Blocking DNS failed error:  Reinstall the NordVPN TAP drivers:   Go to Control Panel > Add or remove programs.  Find NordVPN network TAP and delete it.  Download and install the TAP drivers. Try connecting again.   If the issue persists, try the following steps:   Go to Network and Sharing Center. Select Change Adapter Settings. Right-click TAP-NordVPN Windows Adapter and select Properties. Select TCP/IPv4 and click Properties. Click on the Advanced tab, uncheck Automatic, and set Interface metric to 1. \n",
      "Url: https://support.nordvpn.com/hc/en-us/articles/19748510235921-Troubleshooting-NordVPN-connectivity-on-Windows\n",
      "         ---\n",
      "        You need to provide an answer to this user prompt:\n",
      "        Hey, It seems that I am unable to connect to the VPN for some reason Windows and I am from Lithuania<|im_end|>\n",
      "<|im_start|>assistant\n",
      "\n"
     ]
    }
   ],
   "source": [
    "print(chat_history)\n",
    "print('--------------------------------------------------------------------')\n",
    "print(final_prompt)"
   ]
  },
  {
   "cell_type": "markdown",
   "id": "ddf71fd2",
   "metadata": {},
   "source": [
    "# Case 1.2: Connectivity issue with all the information."
   ]
  },
  {
   "cell_type": "code",
   "execution_count": 8,
   "id": "9031dd50",
   "metadata": {},
   "outputs": [
    {
     "name": "stdout",
     "output_type": "stream",
     "text": [
      "[{'role': 'assistant', 'content': 'Hi, how can I help You?', 'more_info_needed': False}, {'role': 'user', 'content': 'I cant seem to connect to vpn. Im from England and i have an android phone.', 'more_info_needed': False}, {'role': 'assistant', 'content': \"Based on the provided information, it seems that you're encountering difficulties connecting to a VPN on your Android phone. Some potential causes and solutions include:\\n\\n1. Exceeding the maximum number of simultaneous connections allowed per account.\\n2. Conflicts with other VPN services installed on the device.\\n3. Browser extension issues preventing successful connection attempts.\\n\\nHere are some steps you can try to resolve the issue:\\n\\n1. Disconnect from the existing VPN on one of your devices (disconnecting from multiple devices simultaneously).\\n2. Manually connect up to ten devices of your choice.\\n3. Turn off other VPN service extensions or apps to avoid interference.\\n4. Wait a bit longer after closing the extension before attempting to connect again.\\n5. Clear browser cache and delete cookies to potentially resolve caching issues.\\n6. Ensure you are using the latest browser extension version.\\n7. Restart your computer to clear temporary files and improve performance.\\n8. Reinstall the browser extension to rule out any compatibility issues.\\n\\nFor Android users, consider checking the following additional troubleshooting steps mentioned in Document no. 6:\\n\\n1. Verify that your account is active.\\n2. Switch between TCP and UDP protocols.\\n3. Reinstall the NordVPN app.\\n4. Perform a network flush by running diagnostics and flushing the network.\\n5. Reset the NordVPN app and restart your device.\\n\\nRemember to always keep your device and operating system up-to-date to ensure optimal performance and security features.\", 'more_info_needed': False}]\n",
      "--------------------------------------------------------------------\n",
      "<|im_start|>system\n",
      "You are a customer support agent. Using the information contained in the context, give a comprehensive answer to the question. \n",
      "Respond only to the question asked, response should be concise and relevant to the question. \n",
      "Provide full rephrased context of the relevant documents in Your answer if needed. \n",
      "Take the chat history into account when creating the response. Execute case specific instructions if they are present. \n",
      "If the answer is not related to the context or cannot be deduced from the context, do not give an answer and ask for another question.<|im_end|>\n",
      "<|im_start|>user\n",
      "Context: \n",
      "        Conversation history:\n",
      "assistant: \"Hi, how can I help You?\"\n",
      "user: \"I cant seem to connect to vpn. Im from England and i have an android phone.\"\n",
      "Useful information: \n",
      "Document no. 1\n",
      "Title: Unable to connect to a VPN with the browser extension\n",
      "If you’re unable to connect to NordVPN through Chrome, Edge, or Firefox browser extensions, follow these tips to fix the issue:    Don’t connect more than ten devices to one NordVPN account. NordVPN allows you to establish ten simultaneous connections. If you’re past this number, the browser extension won’t allow you to connect. To solve this issue, disconnect from the VPN on one of your devices (or all devices in one go by changing your password). Afterward, manually connect up to ten devices of your choice.   Make sure to turn off other VPN service extensions or apps. Other extensions may interfere with the proxy settings necessary for the NordVPN extension to work.    Wait a little longer to establish a connection. If you’ve closed the VPN browser extension while you were connected to a VPN server, it may take longer to connect the next time you use it.    Refresh the extension by turning it off and on.   Clear your browser cache and delete cookies. Removing old data or resetting the settings may help solve your connection problems.  Make sure you are using the latest browser extension version.   Restart your computer.   Reinstall the browser extension. \n",
      "Url: https://support.nordvpn.com/hc/en-us/articles/20321119601937-Unable-to-connect-to-a-VPN-with-the-browser-extension\n",
      "\n",
      "Document no. 2\n",
      "Title: TAP driver error when connecting to a VPN\n",
      "To make sure your issue is caused by the TAP driver, you can check the connectivity logs from the NordVPN app:  Open the NordVPN app. Go to Settings -> Advanced -> Run Diagnostics Tool -> Click on Collect Diagnostics and complete the process.  Open the NordVPN app installation folder and find the Diagnostics folder. By default, it is located at C:\\Program Files\\NordVPN\\  You will see a .zip folder with the date of the diagnostics. Example: 2020-07-14 15_24_30Z-logs.zip. Double-click on the .zip folder and locate the service-XXXX-XX-XX.nwl file. Example: service-2020-07-14.nwl.  Double-click on the .nwl file, open it with your favorite text editor, and check for the errors below.  You may notice one of these error messages:   FATAL:All TAP-Windows adapters on this system are currently in use.Usually, restarting the TAP adapter helps in this case. To restart it, follow these steps:1. Go to Control Panel -> Network and Sharing Center -> Change Adapter Settings.2. One of the local area connections will have an under-name TAP-NordVPN Windows Adapter v9.3. Disable it and enable it again. Try to connect now.   FATAL:There are no TAP-Windows adapters on this system or FATAL: Blocking DNS failed.In this case, you should reinstall TAP drivers. You can download them here:Windows 7:https://downloads.nordcdn.com/drivers/windows/7/NordVPNTap/NordVPNTapSetup.exeWindows 10:https://downloads.nordcdn.com/drivers/windows/10/NordVPNTap/NordVPNTapSetup.exe  \n",
      "Url: https://support.nordvpn.com/hc/en-us/articles/19919463833745-TAP-driver-error-when-connecting-to-a-VPN\n",
      "\n",
      "Document no. 3\n",
      "Title: What is the Helper service?\n",
      "Helper service is required for a NordVPN macOS app to receive administrator permissions. These permissions are needed for the app to work properly and to route all active connections through a VPN server. \n",
      "Url: https://support.nordvpn.com/hc/en-us/articles/19685689883665-What-is-the-Helper-service\n",
      "\n",
      "Document no. 4\n",
      "Title: Unable to connect to NordVPN servers\n",
      "Several different factors may interfere with your NordVPN connection. Here’s what may help fix the problem.  Operating system-specific NordVPN connection guides  If you are experiencing issues connecting on any of the operating systems below, try following these VPN troubleshooting guides:  Troubleshooting connectivity on Windows Troubleshooting connectivity on Android Troubleshooting connectivity on iOS Troubleshooting connectivity of Linux app Troubleshooting connectivity on macOS  General NordVPN connection tips These tips may help if your NordVPN server is down or if NordVPN is stuck on “connecting”:  If you can’t connect to a specific server, try a few different NordVPN servers. You can use the auto-connect feature or the NordVPN server locator tool to find the right server for you.   Follow the steps below to find the best server for your connection:  Log into your Nord Account, and click NordVPN.  Scroll down to Advanced Settings and click Set up NordVPN manually.  Select the Server recommendation tab. According to your location, the best server will be recommended.  By pressing Advanced filters you can further customize the recommended servers by selecting the Server type and the Security protocol.    On the NordVPN app, log out of your account and log back in. Try connecting again.  Uninstall the app, reboot your device, and install the app again. Try connecting to a server now. Try using a different connection method/protocol for your device.  Is NordVPN down? When a NordVPN server is down, it’s removed from the app’s server list. All NordVPN servers you see on the app should be online.  If you can’t connect to a server and the solutions above don’t work, your device or network may be causing the problem. To check if that’s the case, try using NordVPN on a different device on the same network.  For example, if NordVPN doesn’t work on your Android phone, try using it on your PC. If both devices don’t connect, you may be experiencing network issues. If your PC connects successfully, you may need to reconfigure your phone.  Connecting from a country with internet restrictions If you can’t connect from a country with internet restrictions, you may find a solution in this article:    Connecting from a country with internet restrictions.  \n",
      "Url: https://support.nordvpn.com/hc/en-us/articles/20164096978449-Unable-to-connect-to-NordVPN-servers\n",
      "\n",
      "Document no. 5\n",
      "Title: Troubleshooting connectivity on Android\n",
      "There are several reasons why you may be having trouble connecting to NordVPN on your Android device. These include issues with your account status, app configuration, or network settings. You can troubleshoot by going through the following steps one by one.  First, check that your account is active.  Then, switch between TCP and UDP protocols. If that does not help, try reinstalling the NordVPN app.    Go to the Google Play Store, search for NordVPN. Click Uninstall.  After the uninstall process finishes, click Install again.   The issue might also lie in the configuration of your Android OS, apps, or networks.  After each step, check if the issue remains. In the case that the problems are still there, be sure to reach out to our support team for a quick solution by pressing on either the email or chat button bellow. \n",
      "Url: https://support.nordvpn.com/hc/en-us/articles/20041281541777-Troubleshooting-connectivity-on-Android\n",
      "\n",
      "Document no. 6\n",
      "Title: Share a wireless VPN connection - Windows\n",
      "A virtual private network (VPN) is a smart way to protect your online privacy, whether you’re on your phone, tablet, or computer. But if you have a device that is incompatible with a VPN and does not support any VPN protocols, you can connect it to a VPN over Wi-Fi.  Here are tutorials on how to do so on your Windows PC (choose one depending on the version of your operating system):  Share VPN via a mobile hotspot on Windows 10 Share VPN via a wireless connection from Windows 7, Windows 8.1 or Windows 10 \n",
      "Url: https://support.nordvpn.com/hc/en-us/articles/19916181239313-Share-a-wireless-VPN-connection-Windows\n",
      "\n",
      "Document no. 7\n",
      "Title: Adjusting the Android app configuration\n",
      "Make these adjustments to check if your application is set up correctly:  Try switching between TCP and UDP  Switch between different servers: try connecting to various countries or specific servers Try reinstalling the NordVPN app:Go to the Google Play Store, search for NordVPN, and click Uninstall. After the uninstall process finishes, click Install again. If none of this helps, please check other troubleshooting methods for Android: Troubleshooting connectivity on Android.\n",
      "Url: https://support.nordvpn.com/hc/en-us/articles/20350711654929-Adjusting-the-Android-app-configuration\n",
      "\n",
      "Document no. 8\n",
      "Title: Improve connection speed on Android with NordVPN app\n",
      "If you are experiencing slow connection speed while connected to VPN on Android, try these steps: Make sure to use the latest version of NordVPN app. You can uninstall the app and install the latest version from our website. Restart your device. Switch to NordLynx protocol. If you are using Wi-Fi, switch to a mobile connection or vice versa. Switch the VPN server to one closer to you geographically. Open app settings and switch from the default UDP protocol to TCP. Try a different connection method/protocol on your device. Tutorials for various connection methods can be found here: https://support.nordvpn.com/Connectivity/Android/  \n",
      "Url: https://support.nordvpn.com/hc/en-us/articles/20379831991697-Improve-connection-speed-on-Android-with-NordVPN-app\n",
      "\n",
      "Document no. 9\n",
      "Title: Split Tunneling is not working on NordVPN\n",
      "Find out how to solve this issue below. The allowlisted app has no internet connection If NordVPN’s split tunneling is blocking the internet access on an allowlisted application, follow these steps:   Reset the application. Find the reset instructions in this article.  Reinstall the NordVPN application. In case you are using any antivirus software, allowlist the NordVPN app in the settings of your antivirus app. By default, NordVPN is located in C:\\Program Files\\NordVPN.   Reset the network. Keep in mind that this also resets Wi-Fi networks and passwords, VPN, and APN settings you’ve used before. Here is how you can do that:   Open the NordVPN app, go to Settings, and open the General section.  Find Diagnostics and click on Run Diagnostics Tool. Then, select Network Flush. Lastly, wait for the commands to finish running and restart your computer.  The allowlisted app is still routed through a VPN If you have added the application to the allowlist and it is still routed through a VPN, please contact NordVPN customer support.\n",
      "Url: https://support.nordvpn.com/hc/en-us/articles/20913128327313-Split-Tunneling-is-not-working-on-NordVPN\n",
      "\n",
      "Document no. 10\n",
      "Title: What to do if Amazon is not working with NordVPN\n",
      "If you can’t access Amazon with NordVPN, follow the steps below.  Connect to a different VPN server.  Change the VPN protocol to OpenVPN UDP or TCP. Do a NordVPN DNS leak test while connected to our servers. If the results bring back your IP address, configure your device manually to use private NordVPN DNS servers.  Clear your browser cache. Use a different browser or open Amazon in private browser mode. Disable the Threat Protection feature. If you’re using Threat Protection Pro™, exclude Amazon from the blocked domains list. To do that, go to the Web protection tab in the Threat Protection Pro™ settings and choose to exclude Amazon from threat blocking. Allowlist NordVPN in the settings of your antivirus if you are using one. \n",
      "Url: https://support.nordvpn.com/hc/en-us/articles/20968292007953-What-to-do-if-Amazon-is-not-working-with-NordVPN\n",
      "\n",
      "Document no. 11\n",
      "Title: Accessing streaming services securely with a VPN\n",
      "This article is updated whenever our configurations change. If you start experiencing any issues, come back to this article for updated information.To ensure secure access to a streaming service on your mobile device, connect to NordVPN servers and enjoy popular video content from home safely, wherever you are.Read our guides for setting up NordVPN to access the most popular streaming services: Watching BBC iPlayer securely on mobile devices with NordVPN Watching Amazon Prime securely on mobile devices with NordVPN If there are other streaming services you would like to access, feel free to write to our customer support team (support@nordvpn.com) for more information.The NordVPN service should never be used to bypass copyright regulations. NordVPN does not promote, condone, or endorse the use of the service for such purposes. For more details, please read the NordVPN Terms of Service.\n",
      "Url: https://support.nordvpn.com/hc/en-us/articles/20397735564433-Accessing-streaming-services-securely-with-a-VPN\n",
      "\n",
      "Document no. 12\n",
      "Title: Checking your device configuration\n",
      "1. Add exceptions for the NordVPN app to your antivirus, cleaner, and power saver applications. Since NordVPN runs in the background when you are connected to VPN, these applications may interfere with its stability or might not let you connect at all.2. Make sure you do not have any firewall apps running. Firewall applications on Android devices use the same VPN interface as the NordVPN app, so it might not be able to connect while a firewall application is active on the same device.3. Try changing the DNS servers: Open the device Settings. Go to Connections and select Wi-Fi. Click the cog icon next to your current network and select Advanced. Change IP settings to Static. In the DNS 1 and DNS 2 fields that appeared, enter the following IP addresses: 103.86.96.100 and 103.86.99.100. Press Save, disconnect from the network, and reconnect for changes to take effect. 4. Try resetting your network settings: Open the device Settings. Go to General management and select Reset. Tap Reset network settings. Press Reset settings. If you use a lock on your device, unlock it to proceed. Tap Reset settings again to reset all network settings. \n",
      "Url: https://support.nordvpn.com/hc/en-us/articles/19925722673297-Checking-your-device-configuration\n",
      "\n",
      "Document no. 13\n",
      "Title: How to check the version of OpenVPN on an AsusWRT-running router\n",
      "When having the VPN setup on router level, some connection issues could be caused by the version of OpenVPN. Specifically, if you are using version 2.4.x, you should encounter no OpenVPN-related problems. In case you have OpenVPN 2.3.x, you'll need to either upgrade your router firmware or switch to AsusWRT-Merlin in order to use NordVPN. 1. After you have logged into the control panel of your router, select VPN in the left sidebar menu.  2. Press on the VPN Client tab at the top of the page.  3. Now, next to the VPN profile, click on 'Activate'. 4. Now, head to System Log. You will see a detailed indication of your connection status. Scroll to the top, that's where you'll find the OpenVPN version.\n",
      "Url: https://support.nordvpn.com/hc/en-us/articles/20466863277969-How-to-check-the-version-of-OpenVPN-on-an-AsusWRT-running-router\n",
      "\n",
      "Document no. 14\n",
      "Title: Troubleshooting NordVPN connectivity on Windows\n",
      "Issues with NordVPN app configuration   Make sure your NordVPN account is active.  Check if you’re using the latest NordVPN application version (7.27.5).   To do so, open the app, click on Settings (the gear icon at the bottom) and you’ll see the app version at the top, right below the Settings headline.   If you are using the older version, uninstall the VPN app and download the latest NordVPN version for Windows.     Switch between TCP and UDP protocols.  Connect to another VPN server. If that does not help, reset the application:   Click on the Settings (gear icon) in the bottom left corner. Click General. Scroll down until you see the Diagnostics section and click Run diagnostics. A new window will open. Select Reset app.  Issues with the Windows OS The issue might lie in the configuration of your Windows OS, its applications, and networks. Check out our article on common NordVPN app issues on Windows. FATAL: Blocking DNS failed error If you are getting a FATAL: Blocking DNS failed error:  Reinstall the NordVPN TAP drivers:   Go to Control Panel > Add or remove programs.  Find NordVPN network TAP and delete it.  Download and install the TAP drivers. Try connecting again.   If the issue persists, try the following steps:   Go to Network and Sharing Center. Select Change Adapter Settings. Right-click TAP-NordVPN Windows Adapter and select Properties. Select TCP/IPv4 and click Properties. Click on the Advanced tab, uncheck Automatic, and set Interface metric to 1. \n",
      "Url: https://support.nordvpn.com/hc/en-us/articles/19748510235921-Troubleshooting-NordVPN-connectivity-on-Windows\n",
      "\n",
      "Document no. 15\n",
      "Title: How to choose the best NordVPN server in UK\n",
      "There are two methods: Quick connection   Open and log into the NordVPN app. Press on the \"Quick connect\" button. Wait until the connection is established.   Done! Yes, really. The Quick connect feature provides you with peace of mind by automatically searching for a server that adheres to both of the qualities described above.  Manual connection  Similarly, open and log into the NordVPN app first. Find and click on \"United Kingdom\" within the country list. Again, wait for the connection to be established.   You will now be connected to the closest VPN server with less traffic on. Enjoy the stability and the high speed! The main difference between these two methods is that Quick Connection does not allow you to specify the country, the state or the city that you'll be connecting to.    What qualities make a VPN server the best one for you? In most standard cases, it's the high speed and the reliability of the VPN connection. To achieve both, the best practice is to connect to a VPN server that is closest to your actual location and is less loaded with traffic. On that note, check out how NordVPN fares in the UK: VPN for UK. \n",
      "Url: https://support.nordvpn.com/hc/en-us/articles/19685509154321-How-to-choose-the-best-NordVPN-server-in-UK\n",
      "         ---\n",
      "        You need to provide an answer to this user prompt:\n",
      "        I cant seem to connect to vpn. Im from England and i have an android phone.<|im_end|>\n",
      "<|im_start|>assistant\n",
      "\n"
     ]
    }
   ],
   "source": [
    "chat_history = []\n",
    "starting_string = \"Hi, how can I help You?\"\n",
    "save_history(chat_history = chat_history, model_answer = starting_string)\n",
    "\n",
    "user_prompt = \"I cant seem to connect to vpn. Im from England and i have an android phone.\"\n",
    "save_history(chat_history = chat_history, prompt=user_prompt)\n",
    "\n",
    "final_prompt, answer = get_model_answer_test(user_prompt, chat_history, my_retriever, my_tokenizer, my_reader_llm)\n",
    "\n",
    "print(chat_history)\n",
    "print('--------------------------------------------------------------------')\n",
    "print(final_prompt)"
   ]
  },
  {
   "cell_type": "markdown",
   "id": "9584bc12",
   "metadata": {},
   "source": [
    "# Case 1.3: Connectivity issue with the country information"
   ]
  },
  {
   "cell_type": "code",
   "execution_count": 9,
   "id": "4406fff3",
   "metadata": {},
   "outputs": [],
   "source": [
    "chat_history = []\n",
    "starting_string = \"Hi, how can I help You?\"\n",
    "save_history(chat_history = chat_history, model_answer = starting_string)\n",
    "\n",
    "user_prompt = \"Im in austria and my connectivity to vpn fails.\"\n",
    "save_history(chat_history = chat_history, prompt=user_prompt)\n",
    "\n",
    "final_prompt, answer = get_model_answer_test(user_prompt, chat_history, my_retriever, my_tokenizer, my_reader_llm)\n"
   ]
  },
  {
   "cell_type": "code",
   "execution_count": 10,
   "id": "0b851a6c",
   "metadata": {},
   "outputs": [
    {
     "name": "stdout",
     "output_type": "stream",
     "text": [
      "[{'role': 'assistant', 'content': 'Hi, how can I help You?', 'more_info_needed': False}, {'role': 'user', 'content': 'Im in austria and my connectivity to vpn fails.', 'more_info_needed': False}, {'role': 'assistant', 'content': 'Please provide the device type and operating system.', 'more_info_needed': True}, {'role': 'user', 'content': 'i have a chromebook', 'more_info_needed': False}, {'role': 'assistant', 'content': 'To troubleshoot the issue with your Chromebook\\'s connectivity to the VPN, follow these steps:\\n\\n1. **Check Device Type**: Ensure your Chromebook meets the minimum requirements for the NordVPN service.\\n\\n2. **Verify Operating System**: Confirm that your Chromebook runs a compatible operating system.\\n\\n3. **Update Firmware**: Check if your router supports the latest firmware version for NordVPN compatibility.\\n\\n4. **Log into Router Control Panel**:\\n   - Enter `192.168.1.1` or `192.168.50.1` in the browser address bar.\\n   - Use the default username (`admin`) and password (`admin`).\\n\\n5. **Navigate to VPN Configuration**:\\n   - Go to the \"VPN\" section in the left sidebar.\\n   - Click on the \"Add Profile\" button.\\n   - Fill out the following fields:\\n     - Description: Provide a descriptive name.\\n     - Username: Your NordVPN service username.\\n     - Password: Your NordVPN service password.\\n     - Auto-reconnect: Enable this option.\\n\\n6. **Download OpenVPN Configuration Files**:\\n   - Log into your NordAccount.\\n   - Navigate to the \"Advanced Settings\" > \"Manual Setup\".\\n   - Copy the \"Username\" and \"Password\" values.\\n   - Download the OpenVPN configuration files.\\n\\n7. **Configure OpenVPN on Router**:\\n   - On the router, navigate to the \"VPN\" tab.\\n   - Click \"Add Profile\" and upload the downloaded configuration file.\\n   - Configure the settings as described in the documentation.\\n\\n8. **Activate Connection**:\\n   - Click \"Activate\" to connect the router to the NordVPN service.\\n\\n9. **Test Connectivity**:\\n   - Verify that your Chromebook connects to the NordVPN service by checking the \"Connected\" status in the NordVPN app.\\n\\nBy following these steps, you should be able to configure the NordVPN service on your Chromebook and establish a stable connection.', 'more_info_needed': False}]\n"
     ]
    }
   ],
   "source": [
    "user_prompt = \"i have a chromebook\"\n",
    "save_history(chat_history = chat_history, prompt=user_prompt)\n",
    "\n",
    "final_prompt, answer = get_model_answer_test(user_prompt, chat_history, my_retriever, my_tokenizer, my_reader_llm)\n",
    "\n",
    "print(chat_history)"
   ]
  },
  {
   "cell_type": "markdown",
   "id": "40ed9c47",
   "metadata": {},
   "source": [
    "# Case 1.4: Connectivity issue with device and country information"
   ]
  },
  {
   "cell_type": "code",
   "execution_count": 11,
   "id": "dc32f820",
   "metadata": {},
   "outputs": [
    {
     "name": "stdout",
     "output_type": "stream",
     "text": [
      "[{'role': 'assistant', 'content': 'Hi, how can I help You?', 'more_info_needed': False}, {'role': 'user', 'content': 'I travelled to india and vpn on my kindle seems to be disconnected. why?', 'more_info_needed': False}, {'role': 'assistant', 'content': \"The reason your Kindle's VPN connection appears to be disconnected could be due to the split tunneling feature being enabled. According to the documentation, enabling split tunneling allows you to route a portion of your internet traffic through a specific application like NordVPN. However, this feature can sometimes lead to issues where services are affected by the VPN, especially when dealing with applications that rely on DNS. As a workaround, you can disable split tunneling and add the necessary apps to your whitelist. Additionally, ensure that your device's network settings are correctly configured to avoid potential conflicts with firewalls or antivirus software.\", 'more_info_needed': False}]\n"
     ]
    }
   ],
   "source": [
    "chat_history = []\n",
    "starting_string = \"Hi, how can I help You?\"\n",
    "save_history(chat_history = chat_history, model_answer = starting_string)\n",
    "\n",
    "user_prompt = \"I travelled to india and vpn on my kindle seems to be disconnected. why?\"\n",
    "save_history(chat_history = chat_history, prompt=user_prompt)\n",
    "\n",
    "final_prompt, answer = get_model_answer_test(user_prompt, chat_history, my_retriever, my_tokenizer, my_reader_llm)\n",
    "\n",
    "print(chat_history)"
   ]
  },
  {
   "cell_type": "markdown",
   "id": "8fe97bbd",
   "metadata": {},
   "source": [
    "# Case 2: Question from expected answers."
   ]
  },
  {
   "cell_type": "code",
   "execution_count": 12,
   "id": "35dfbafe",
   "metadata": {},
   "outputs": [
    {
     "name": "stdout",
     "output_type": "stream",
     "text": [
      "Conversation history:\n",
      "assistant: \"Hi, how can I help You?\"\n",
      "user: \"How do i setup proxy on Deluge\"\n",
      "assistant: \"To set up a proxy on Deluge, follow these steps:\n",
      "\n",
      "1. Open Deluge.\n",
      "\n",
      "2. Go to Preferences.\n",
      "\n",
      "3. On Windows and Linux, click Edit > Preferences.\n",
      "\n",
      "On macOS, go to the menu bar and click Deluge > Preferences.\n",
      "\n",
      "4. Select the Proxy section.\n",
      "\n",
      "5. Choose Socks5 Auth from the Proxy dropdown menu.\n",
      "\n",
      "6. Fill in the following information:\n",
      "   - Username: NordVPN service username\n",
      "   - Password: NordVPN service password\n",
      "   - Hostname: Address of a selected proxy server\n",
      "   - Port: 1080\n",
      "\n",
      "7. Click Apply and OK to save changes.\n",
      "\n",
      "8. To check if your proxy setup is working, visit the ipleak.net website. Scroll down to the Torrent Address detection section, click Activate, and click this Magnet Link. A new window will show up, prompting you to open Deluge. Select Add to add the torrent. While the torrent is downloading metadata, return to the ipleak website. Under Torrent Address detection, you should see the IP address of your chosen proxy server. If no address is showing, click the Refresh button to update the results.\"\n",
      "--------------------------------------------------------------------\n",
      "<|im_start|>system\n",
      "You are a customer support agent. Using the information contained in the context, give a comprehensive answer to the question. \n",
      "Respond only to the question asked, response should be concise and relevant to the question. \n",
      "Provide full rephrased context of the relevant documents in Your answer if needed. \n",
      "Take the chat history into account when creating the response. Execute case specific instructions if they are present. \n",
      "If the answer is not related to the context or cannot be deduced from the context, do not give an answer and ask for another question.<|im_end|>\n",
      "<|im_start|>user\n",
      "Context: \n",
      "        Conversation history:\n",
      "assistant: \"Hi, how can I help You?\"\n",
      "user: \"How do i setup proxy on Deluge\"\n",
      "Useful information: \n",
      "Document no. 1\n",
      "Title: NordVPN proxy setup for qBittorrent\n",
      "  NordVPN works with qBittorrent and most other peer-to-peer platforms, so usually there’s no need for a proxy.   If for some reason you cannot use the NordVPN app but still want to access qBittorrent safely, set up a proxy for qBittorrent by connecting to NordVPN servers.  Note that NordVPN service should never be used to bypass copyright regulations. NordVPN does not promote, condone, or endorse the use of the service for such purposes. For more details, please read the NordVPN Terms of Service. How to set up NordVPN with qBittorrent? Configure your NordVPN qBittorrent proxy settings to use the qBittorrent client with the NordVPN proxy.  Open qBittorrent. Navigate to the application preferences by clicking Tools > Options. Alternatively, press Alt + O on your keyboard. Select Connection. Locate the Proxy server section and fill in the following information:• Type: SOCKS5• Host: Address of the proxy server of your choiceChoose from this list of servers:amsterdam.nl.socks.nordhold.netatlanta.us.socks.nordhold.netdallas.us.socks.nordhold.netlos-angeles.us.socks.nordhold.netnl.socks.nordhold.netse.socks.nordhold.netstockholm.se.socks.nordhold.netus.socks.nordhold.netnew-york.us.socks.nordhold.netsan-francisco.us.socks.nordhold.netdetroit.us.socks.nordhold.net     Port: 1080 Select the Use proxy for peer connections and the Authentication checkboxes.  Username: Your NordVPN service username  Password: Your NordVPN service password  You can find your NordVPN service credentials (service username and service password) in the Nord Account dashboard:  Click Set up NordVPN manually.  You will receive a verification code in your email that you use for NordVPN services. Type the code in:   Copy the credentials using the “Copy” buttons on the right:      Click Apply and OK to save the changes.  How to check if your proxy setup is working  You’ve connected to a NordVPN server via SOCKS5 proxy. But just to be sure, let’s check whether it is working correctly.  Visit the ipleak.net website. Scroll down to the Torrent Address detection section, click Activate, and click this Magnet Link.  A new window will show up, prompting you to open qBittorrent. Select Open qBittorrent.Important: keep ipleak.net open. When qBittorrent is open, click OK to add the torrent.  While the torrent is downloading metadata, return to the ipleak website. Under Torrent Address detection, you should see the IP address of your chosen proxy server.If no address is showing, click the Refresh button to update the results.  If you see the NordVPN server IP address, it means that qBittorrent is downloading files through the NordVPN SOCKS5 proxy server and your downloads are secured!          \n",
      "Url: https://support.nordvpn.com/hc/en-us/articles/20195967385745-NordVPN-proxy-setup-for-qBittorrent\n",
      "\n",
      "Document no. 2\n",
      "Title: NordVPN proxy setup for uTorrent\n",
      "You can use NordVPN with uTorrent and other peer-to-peer platforms without setting up a proxy. However, if you don’t want to use the NordVPN app for uTorrent, setting up a NordVPN proxy is a great alternative. Note that NordVPN service should never be used to bypass copyright regulations. NordVPN does not promote, condone, or endorse the use of the service for such purposes. For more details, please read the NordVPN Terms of Service. How to set up NordVPN with uTorrent  Open uTorrent. In the menu bar, click Option > Preferences. Alternatively, press Ctrl + P on your keyboard. Select the Connection section. Under Proxy Server, from the Type dropdown, select Socks5. In the Proxy field, enter an address of a selected proxy server.Here is a list of servers you can choose from:amsterdam.nl.socks.nordhold.netatlanta.us.socks.nordhold.netdallas.us.socks.nordhold.netlos-angeles.us.socks.nordhold.netnl.socks.nordhold.netse.socks.nordhold.netstockholm.se.socks.nordhold.netus.socks.nordhold.netnew-york.us.socks.nordhold.netsan-francisco.us.socks.nordhold.netdetroit.us.socks.nordhold.net  In the Port field, type in 1080.  Select the following checkboxes:  Authentication Use proxy for hostname lookups Use proxy for peer-to-peer connections Disable all local DNS lookups Disable features that leak identifying information Disable connections unsupported by the proxyAnd enter your authentication details.Username: NordVPN service usernamePassword: NordVPN service password     You can find your NordVPN service credentials (service username and service password) in the Nord Account dashboard: Click Set up NordVPN manually.  You will receive a verification code in your email that you use for NordVPN services. Type the code in:   Copy the credentials using the “Copy” buttons on the right:    Click Apply and OK to save changes.  How to check if your proxy setup is working Let’s check if your proxy setup is working.  Visit the ipleak.net website. Scroll down to the Torrent Address detection section, click Activate, and click this Magnet Link.  A new window will show up, prompting you to open uTorrent. Select Open uTorrent.Important: keep ipleak.net open. Once uTorrent opens, click OK to add the torrent.  While the torrent is downloading metadata, return to the ipleak website. Under Torrent Address detection, you should see the IP address of your chosen proxy server.If no address is showing, click the Refresh button to update the results.  If you see the NordVPN server IP address you selected, the setup is working — uTorrent is downloading files through a NordVPN SOCKS5 proxy server.  \n",
      "Url: https://support.nordvpn.com/hc/en-us/articles/19449763497489-NordVPN-proxy-setup-for-uTorrent\n",
      "\n",
      "Document no. 3\n",
      "Title: What is a proxy server?\n",
      "In computer networks, a proxy server acts as an intermediary for queries from internet users seeking resources from other servers. User joins the proxy server, requesting some service, such as a webpage, connection, file or other resources available from other servers and the proxy server estimates the request as a way to control and simplify it’s complexity. Nowadays, most proxy servers facilitate access to the content on the World Wide Web (WWW). Uses A proxy server has plenty of potential purposes including:  Keep machines anonymous for security; Speed up access to internet content using caching. Web proxies are mostly used to cache web pages from a web server; Block the attempt to download the same content multiple times in order to save bandwidth; Log and audit Internet usage; Scan transferred data for malware before delivery; Scan upload data in order to prevent data loss; Bypass webpage restrictions at work; Access restriction/enhancement; Apply access policy to network content or services; Access websites filtered or banned by your ISP or government; Bypass parental and security controls; Allow the website to make requests to externally hosted resources such as music files, images, movie files, etc. when cross-domain restrictions block the website from connecting directly to the outside domains; Allow browsers to make network requests to externally hosted content in the name of a website when cross-domain restrictions block the browser from directly accessing the outside domains.  Types of proxy  A proxy server may operate on the user’s local computer or at various points between destination servers on the Internet and user’s computer; A proxy server which passes responses and requests unmodified is usually called a tunneling proxy or a gateway; A forward proxy is an Internet-facing proxy which retrieves from a large range of sources, mostly everywhere on the Internet; A reverse proxy usually is an Internet-facing proxy that is used as a front-end to protect and control access to a server on a private network, mostly performing tasks such as caching, authentication, load-balancing, or decryption.  Proxy setup guides  qBittorrent uTorrent Deluge  Additionally, keep in mind that NordVPN service should never be used to bypass copyright regulations. NordVPN does not promote, condone, or endorse the use of the service for such purposes. For more details, please read the NordVPN Terms of Service.\n",
      "Url: https://support.nordvpn.com/hc/en-us/articles/19685375790865-What-is-a-proxy-server\n",
      "\n",
      "Document no. 4\n",
      "Title: NordVPN proxy setup for BitTorrent\n",
      "  When you connect to NordVPN’s servers, you can use BitTorrent and most other peer-to-peer platforms. But if you want to avoid using the NordVPN app, setting up a VPN proxy is the next best thing.  Note that NordVPN service should never be used to bypass copyright regulations. NordVPN does not promote, condone, or endorse the use of the service for such purposes. For more details, please read the NordVPN Terms of Service. How to set up NordVPN with BitTorrent  Open BitTorrent. In the menu bar, click Option > Preferences. Alternatively, press Ctrl + P on your keyboard.  Select the Connection section. Under Proxy Server, from the Type dropdown, select Socks5.  In the Proxy field, enter an address of a selected proxy server.Here is a list of servers you can choose from:amsterdam.nl.socks.nordhold.netatlanta.us.socks.nordhold.netdallas.us.socks.nordhold.netlos-angeles.us.socks.nordhold.netnl.socks.nordhold.netse.socks.nordhold.netstockholm.se.socks.nordhold.netus.socks.nordhold.netnew-york.us.socks.nordhold.netsan-francisco.us.socks.nordhold.netdetroit.us.socks.nordhold.net  In the Port field, type in 1080.  Select the following checkboxes:  Authentication Use proxy for hostname lookups Use proxy for peer-to-peer connections Disable all local DNS lookups Disable features that leak identifying information Disable connections unsupported by the proxy    Enter your authentication details.Username: NordVPN service usernamePassword: NordVPN service passwordYou can find your NordVPN service credentials (service username and service password) in the Nord Account dashboard:  Click Set up NordVPN manually.  You will receive a verification code in your email that you use for NordVPN services. Type the code in:   Copy the credentials using the “Copy” buttons on the right:    Click Apply and OK to save changes.  How to check if your proxy setup is working   Visit the ipleak.net website. Scroll down to the Torrent Address detection section, click Activate, and click this Magnet Link.  A new window will show up, prompting you to open BitTorrent. Select Open BitTorrent.Important: keep ipleak.net open. Once BitTorrent opens, click OK to add the torrent.  While the torrent is downloading metadata, return to the ipleak website. Under Torrent Address detection, you should see the IP address of your chosen proxy server.If no address is showing, click the Refresh button to update the results.  You should find that BitTorrent is securely downloading files via the NordVPN SOCKS5 proxy server you selected.  \n",
      "Url: https://support.nordvpn.com/hc/en-us/articles/20465085067665-NordVPN-proxy-setup-for-BitTorrent\n",
      "\n",
      "Document no. 5\n",
      "Title: NordVPN proxy setup on Deluge\n",
      "The simplest way to use Deluge securely is to connect to NordVPN before using it. However, when you can’t access the NordVPN app, setting up a NordVPN proxy is the next best thing. Note that NordVPN service should never be used to bypass copyright regulations. NordVPN does not promote, condone, or endorse the use of the service for such purposes. For more details, please read the NordVPN Terms of Service. How to set up NordVPN with Deluge  Open Deluge. Open Preferences.   On Windows and Linux: click Edit > Preferences.  On macOS: in the menu bar, click Deluge > Preferences.    Select the Proxy section. From the Proxy dropdown menu, select Socks5 Auth.    Fill in the following information:   Username: NordVPN service username  Password: NordVPN service passwordYou can find your NordVPN service credentials (service username and service password) in the Nord Account dashboard:  Click Set up NordVPN manually.  You will receive a verification code in your email that you use for NordVPN services. Type the code in:   Copy the credentials using the “Copy” buttons on the right:     Hostname: Address of a selected proxy server.Here is a list of servers you can choose from:amsterdam.nl.socks.nordhold.netatlanta.us.socks.nordhold.netdallas.us.socks.nordhold.netlos-angeles.us.socks.nordhold.netnl.socks.nordhold.netse.socks.nordhold.netstockholm.se.socks.nordhold.netus.socks.nordhold.netnew-york.us.socks.nordhold.netsan-francisco.us.socks.nordhold.netdetroit.us.socks.nordhold.net   Port: 1080      Click Apply and OK to save changes.   How to check if your proxy setup is working  Visit the ipleak.net website. Scroll down to the Torrent Address detection section, click Activate, and click this Magnet Link.  A new window will show up, prompting you to open uTorrent. Select Open deluge.Important: keep ipleak.net open.   Once Deluge opens, click Add to add the torrent.   While the torrent is downloading metadata, return to the ipleak website. Under Torrent Address detection, you should see the IP address of your chosen proxy server.If no address is showing, click the Refresh button to update the results.  If everything is working properly, you should see the IP address of the VPN server you selected. Deluge is now downloading files securely thanks to NordVPN SOCKS5 proxy server.\n",
      "Url: https://support.nordvpn.com/hc/en-us/articles/20341624031505-NordVPN-proxy-setup-on-Deluge\n",
      "         ---\n",
      "        You need to provide an answer to this user prompt:\n",
      "        How do i setup proxy on Deluge<|im_end|>\n",
      "<|im_start|>assistant\n",
      "\n"
     ]
    }
   ],
   "source": [
    "chat_history = []\n",
    "starting_string = \"Hi, how can I help You?\"\n",
    "save_history(chat_history = chat_history, model_answer = starting_string)\n",
    "\n",
    "user_prompt = \"How do i setup proxy on Deluge\"\n",
    "save_history(chat_history = chat_history, prompt=user_prompt)\n",
    "\n",
    "final_prompt, answer = get_model_answer_test(user_prompt, chat_history, my_retriever, my_tokenizer, my_reader_llm)\n",
    "\n",
    "print(return_history(chat_history))\n",
    "print('--------------------------------------------------------------------')\n",
    "print(final_prompt)"
   ]
  },
  {
   "cell_type": "markdown",
   "id": "ab79094f",
   "metadata": {},
   "source": [
    "# Case 3: Question in another language"
   ]
  },
  {
   "cell_type": "code",
   "execution_count": 13,
   "id": "e8e99e82",
   "metadata": {},
   "outputs": [
    {
     "name": "stderr",
     "output_type": "stream",
     "text": [
      "You seem to be using the pipelines sequentially on GPU. In order to maximize efficiency please use a dataset\n"
     ]
    },
    {
     "name": "stdout",
     "output_type": "stream",
     "text": [
      "Conversation history:\n",
      "assistant: \"Hi, how can I help You?\"\n",
      "user: \"kas yra vpnas?\"\n",
      "assistant: \"Yra, kadangi nurodami su NordVPN, turime padėją susijungti į savo apsaugos kanalo. NordVPN yra populiarus kanalo, kurį galima susijungti į visą pasaulyje. Kanalo turi mokymąlęs ir privatūs prisijungimus, kuriuo gali būti naudingas kaip išlaikyti savo privačią informaciją ir pasižiūrių. Kanalo turi skirtingesnias kanalų tipologijas, skirtumus ir prisijungimo metodus, kad būtų svarbų nuolatose. Kanalo turi skiriamos funkcijos, esančios pagrindiniuose komponentuose, tokie kaip tunelai, tuneliškojantys, tuneliškumas, tuneliškos šeimos, tuneliškos šeimos šakos, tuneliškos šeimos šakos šakos, tuneliškos šeimos šakos šakos šakos šakos šakos šakos šakos šakos šakos šakos šakos šakos šakos šakos šakos šakos šakos šakos šakos šakos šakos šakos šakos šakos šakos šakos šakos šakos šakos šakos šakos šakos šakos šakos šakos šakos šakos šakos šakos šakos šakos šakos šakos šakos šakos šakos šakos šakos šakos šakos šakos šakos šakos šakos šakos šakos šakos šakos šakos šakos šakos šakos šakos šakos šakos šakos šakos šakos šakos šakos šakos šakos šakos šakos šakos šakos šakos šakos šakos šakos šakos šakos šakos šakos šakos šakos šakos šakos šakos šakos šakos šakos šakos šakos šakos šakos šakos šakos šakos šakos šakos šakos šakos šakos šakos šakos šakos šakos šakos šakos šakos šakos šakos šakos šakos šakos šakos šakos šakos šakos šakos šakos šakos šakos šakos šakos šakos šakos šakos šakos šakos šakos šakos šakos šakos šakos šakos šakos šakos šakos šakos šakos šakos šakos šakos šakos šakos šakos šakos šakos šakos šakos šakos šakos šakos šakos šakos šakos šakos šakos šakos šakos šakos šakos šakos šakos šakos šakos šakos šakos šakos šakos šakos šakos šakos šakos šakos šakos šakos šakos šakos šakos šakos šakos šakos šakos šakos šakos šakos šakos šakos šakos šakos šakos šakos šakos šakos šakos šakos šakos šakos šakos šakos šakos šakos šakos šakos šakos šakos šakos šakos šakos šakos šakos šakos šakos šakos šakos šakos šakos šakos šakos šakos šakos šakos šakos šakos šakos šakos šakos šakos šakos šakos šakos šakos šakos šakos šakos šakos šakos šakos šakos šakos šakos šakos šakos šakos šakos šakos šakos šakos šakos šakos šakos šakos šakos šakos šakos šak\"\n"
     ]
    }
   ],
   "source": [
    "chat_history = []\n",
    "starting_string = \"Hi, how can I help You?\"\n",
    "save_history(chat_history = chat_history, model_answer = starting_string)\n",
    "user_prompt = \"kas yra vpnas?\"\n",
    "save_history(chat_history = chat_history, prompt=user_prompt)\n",
    "\n",
    "final_prompt, answer = get_model_answer_test(user_prompt, chat_history, my_retriever, my_tokenizer, my_reader_llm)\n",
    "\n",
    "print(return_history(chat_history))"
   ]
  },
  {
   "cell_type": "markdown",
   "id": "e7301fb3",
   "metadata": {},
   "source": [
    "# Case 4: Unrelated question"
   ]
  },
  {
   "cell_type": "code",
   "execution_count": 14,
   "id": "374b8309",
   "metadata": {},
   "outputs": [
    {
     "name": "stdout",
     "output_type": "stream",
     "text": [
      "Conversation history:\n",
      "assistant: \"Hi, how can I help You?\"\n",
      "user: \"whats is the best dog?\"\n",
      "assistant: \"The best dog varies greatly depending on individual preferences, lifestyle, and living conditions. Some common considerations include size, energy level, exercise requirements, training needs, and compatibility with children or other pets. It's important to consider these factors when choosing a breed that suits your lifestyle.\"\n"
     ]
    }
   ],
   "source": [
    "chat_history = []\n",
    "starting_string = \"Hi, how can I help You?\"\n",
    "save_history(chat_history = chat_history, model_answer = starting_string)\n",
    "\n",
    "user_prompt = \"whats is the best dog?\"\n",
    "save_history(chat_history = chat_history, prompt=user_prompt)\n",
    "\n",
    "final_prompt, answer = get_model_answer_test(user_prompt, chat_history, my_retriever, my_tokenizer, my_reader_llm)\\\n",
    "    \n",
    "print(return_history(chat_history))"
   ]
  },
  {
   "cell_type": "markdown",
   "id": "81eaf252",
   "metadata": {},
   "source": [
    "# Case 5: Complete nonsense"
   ]
  },
  {
   "cell_type": "code",
   "execution_count": 15,
   "id": "f60cbd03",
   "metadata": {},
   "outputs": [
    {
     "name": "stdout",
     "output_type": "stream",
     "text": [
      "Conversation history:\n",
      "assistant: \"Hi, how can I help You?\"\n",
      "user: \"fhsjaklfy3194r092-hf1803vb3-0[gimkmgh1375gh30rqg121gvdfag75wq46g510 1 4519i034i0909ĖĮŠŲŲŪŲ()ŠĘĮĘĮĖĖŲįa šųūšūĘČĮČĘĘĖ?\"\n",
      "assistant: \"The message contains a string of characters that appears to be encoded or scrambled. Without further context, it's difficult to determine what it represents or means. If you're looking for assistance with something else, please provide more details.\"\n",
      "--------------------------------------------------------------------\n",
      "<|im_start|>system\n",
      "You are a customer support agent. Using the information contained in the context, give a comprehensive answer to the question. \n",
      "Respond only to the question asked, response should be concise and relevant to the question. \n",
      "Provide full rephrased context of the relevant documents in Your answer if needed. \n",
      "Take the chat history into account when creating the response. Execute case specific instructions if they are present. \n",
      "If the answer is not related to the context or cannot be deduced from the context, do not give an answer and ask for another question.<|im_end|>\n",
      "<|im_start|>user\n",
      "Context: \n",
      "        Conversation history:\n",
      "assistant: \"Hi, how can I help You?\"\n",
      "user: \"fhsjaklfy3194r092-hf1803vb3-0[gimkmgh1375gh30rqg121gvdfag75wq46g510 1 4519i034i0909ĖĮŠŲŲŪŲ()ŠĘĮĘĮĖĖŲįa šųūšūĘČĮČĘĘĖ?\"\n",
      "Useful information: \n",
      "Document no. 1\n",
      "Title: What is NordVPN's colocated server\n",
      "In September 2020, NordVPN started the server colocation process and already has 580 colocated servers in 19 different locations. All 5472 servers in 60 countries will become colocated in the future. This change is essential as an additional step to improve the overall service quality for you as a user.  What does server colocation mean? Server colocation is the process of housing servers in a purpose-built data center that allows managing servers by the company itself. This means that from now on, our colocated servers are owned by NordVPN. With the help of the company's partners, servers are now supported by a constant power supply, steady internet connection, protection against natural disasters, and, most importantly, tight security.\n",
      "Url: https://support.nordvpn.com/hc/en-us/articles/19685719333393-What-is-NordVPN-s-colocated-server\n",
      "\n",
      "Document no. 2\n",
      "Title: Where is NordVPN based\n",
      "NordVPN is based and operates under the jurisdiction of Panama. There is no mandatory data retention law in Panama, so we do not need to store logs which is perfect for a VPN provider.\n",
      "Url: https://support.nordvpn.com/hc/en-us/articles/19441152966161-Where-is-NordVPN-based\n",
      "\n",
      "Document no. 3\n",
      "Title: What does ISP see when I’m using NordVPN?\n",
      " Can my internet service provider (ISP) track me down if I’m using NordVPN? Does NordVPN hide all online traffic from ISPs? These questions are commonly asked by people weighing their cybersecurity and online privacy options. In this article, we will explore what your ISP can see with NordVPN. Can my ISP see that I’m using NordVPN? When you connect to a NordVPN server, your ISP can see that you’re connected to an IP owned by a VPN service. It might also know the time of your connection and the port your VPN protocol is using. Plus, the provider will see the amount of traffic traveling to and from your device. What does NordVPN hide from my ISP? In essence, your service provider only knows that your actual online traffic is hidden from them. That means it loses access to the following information:  The websites you visit The specific web pages you browse and the time you spend there Your browsing and search history The files you download from or upload to unencrypted websites The info you type on unencrypted websites  Why does the ISP still see some information? Your ISP still sees some information because your service provider connects you to the websites you want to visit. You send it a data package, which works as a request, and the ISP sends it to the correct destination. When you connect to NordVPN, you tell it to send that request to the VPN server. But from that point on, the VPN server takes over the package, and the ISP will never know its final destination. To sum up, the ISP sees the following information when you use NordVPN:  The IP address of the VPN server The timestamp of when you connected The port your VPN protocol is using The amount of data you’re sending or receiving Encrypted and unreadable data traveling between you and the VPN server  So use a VPN to block ISP tracking and protect your privacy\n",
      "Url: https://support.nordvpn.com/hc/en-us/articles/19588855566097-What-does-ISP-see-when-I-m-using-NordVPN\n",
      "\n",
      "Document no. 4\n",
      "Title: What is NordLabs\n",
      "        NordLabs is a testing platform that NordVPN engineers and developers created to test and experiment with new online safety products and tools.  The platform provides a chance for you to try the products and provide your feedback about them. To find out more information about it, and understand the testing products check the NordLabs blog post.  \n",
      "Url: https://support.nordvpn.com/hc/en-us/articles/20187962822033-What-is-NordLabs\n",
      "\n",
      "Document no. 5\n",
      "Title: test\n",
      " 1 2 ...    Server Address:   Remote ID:   178.79.177.90 - uk2326.nordvpn.com   178.79.177.195 - uk2326.nordvpn.com   178.79.177.150 - uk2326.nordvpn.com   212.71.235.149 - uk2326.nordvpn.com   212.71.235.93 - uk2326.nordvpn.com   173.255.216.165 - us5783.nordvpn.com   172.104.115.248 -  jp598.nordvpn.com   172.104.115.220 -  jp599.nordvpn.com   172.104.115.82 -  jp598.nordvpn.com   172.104.115.26 -  jp598.nordvpn.com   172.104.115.47 -  jp599.nordvpn.com   then some more text      Server Address:   Remote ID:    178.79.177.90  -  uk2326.nordvpn.com     178.79.177.195  -  uk2326.nordvpn.com     178.79.177.150  -  uk2326.nordvpn.com     212.71.235.149  -  uk2326.nordvpn.com     212.71.235.93  -  uk2326.nordvpn.com     173.255.216.165  -  us5783.nordvpn.com     172.104.115.248  -   jp598.nordvpn.com     172.104.115.220  -   jp599.nordvpn.com     172.104.115.82  -   jp598.nordvpn.com     172.104.115.26  -   jp598.nordvpn.com     172.104.115.47  -   jp599.nordvpn.com    \n",
      "Url: https://support.nordvpn.com/hc/en-us/articles/25016876767121-test\n",
      "\n",
      "Document no. 6\n",
      "Title: Under what circumstances would we share user info?\n",
      "  We do not give away any information about our users to anyone. Since we do not keep any logs, even if we would receive a valid court order, we would be unable to provide any relevant information.          \n",
      "Url: https://support.nordvpn.com/hc/en-us/articles/19685701046673-Under-what-circumstances-would-we-share-user-info\n",
      "\n",
      "Document no. 7\n",
      "Title: Does NordVPN support PayPal payments\n",
      "NordVPN uses an alternative payment processor, Paddle, which allows making payments via PayPal.  \n",
      "Url: https://support.nordvpn.com/hc/en-us/articles/19743957951505-Does-NordVPN-support-PayPal-payments\n",
      "\n",
      "Document no. 8\n",
      "Title: Why am I asked to verify if I am not a robot?\n",
      "Our servers provide static shared IP addresses thus many different users are using the same IP address to access the same websites. These websites can detect that there is increased traffic from a single IP address and thus this check is implemented to prevent any abuse of the website/service. You can overcome this issue by connecting to a less loaded server via the server list on the application.\n",
      "Url: https://support.nordvpn.com/hc/en-us/articles/19678213781393-Why-am-I-asked-to-verify-if-I-am-not-a-robot\n",
      "\n",
      "Document no. 9\n",
      "Title: What is the difference between a proxy and a VPN\n",
      " Proxy is just a server which your computer sends request to and relays it to website you are trying to reach. In almost all cases it does not have any encryption and works only on a browser. While VPN has a strong encryption, especially if it is OpenVPN and it encrypts entirely all your internet traffic.\n",
      "Url: https://support.nordvpn.com/hc/en-us/articles/19685742060433-What-is-the-difference-between-a-proxy-and-a-VPN\n",
      "\n",
      "Document no. 10\n",
      "Title: Does NordVPN keep the original email address\n",
      "  NordVPN database has only the latest e-mail address in its records.  \n",
      "Url: https://support.nordvpn.com/hc/en-us/articles/19483512003985-Does-NordVPN-keep-the-original-email-address\n",
      "\n",
      "Document no. 11\n",
      "Title: Does NordVPN have servers in the Philippines?\n",
      "NordVPN has virtual servers in the Philippines. Physical servers usually have limited server infrastructure, whereas virtual servers are an optimal solution, providing speeds and connection quality equal to those of a physical server. Learn more by reading our article on virtual servers.\n",
      "Url: https://support.nordvpn.com/hc/en-us/articles/20912003363985-Does-NordVPN-have-servers-in-the-Philippines\n",
      "\n",
      "Document no. 12\n",
      "Title: What is Nord Checkout?\n",
      "  Nord Checkout is the unified payment system for all of our services, including NordVPN, NordPass, and NordLocker. It will eliminate the need for navigating back and forth between each product page and let you safely order our products without the need to navigate between different pages.  \n",
      "Url: https://support.nordvpn.com/hc/en-us/articles/19685602129297-What-is-Nord-Checkout\n",
      "\n",
      "Document no. 13\n",
      "Title: Taking photos in low light\n",
      "Use a tripod Just some example text\n",
      "Url: https://support.nordvpn.com/hc/en-us/articles/20869964780945-Taking-photos-in-low-light\n",
      "\n",
      "Document no. 14\n",
      "Title: Does NordVPN store any logs?\n",
      "NordVPN does not log any of your activity online. The only information we keep about our users is their encrypted login credentials (used for connecting to a VPN and troubleshooting purposes) and billing information (used for refund procedures). In the year 2023, on January 10th, NordVPN verified the no-logs statement for the third time. You can find more information about it here.\n",
      "Url: https://support.nordvpn.com/hc/en-us/articles/19476316096913-Does-NordVPN-store-any-logs\n",
      "         ---\n",
      "        You need to provide an answer to this user prompt:\n",
      "        fhsjaklfy3194r092-hf1803vb3-0[gimkmgh1375gh30rqg121gvdfag75wq46g510 1 4519i034i0909ĖĮŠŲŲŪŲ()ŠĘĮĘĮĖĖŲįa šųūšūĘČĮČĘĘĖ?<|im_end|>\n",
      "<|im_start|>assistant\n",
      "\n"
     ]
    }
   ],
   "source": [
    "chat_history = []\n",
    "starting_string = \"Hi, how can I help You?\"\n",
    "save_history(chat_history = chat_history, model_answer = starting_string)\n",
    "\n",
    "user_prompt = \"fhsjaklfy3194r092-hf1803vb3-0[gimkmgh1375gh30rqg121gvdfag75wq46g510 1 4519i034i0909ĖĮŠŲŲŪŲ()ŠĘĮĘĮĖĖŲįa šųūšūĘČĮČĘĘĖ?\"\n",
    "save_history(chat_history = chat_history, prompt=user_prompt)\n",
    "\n",
    "final_prompt, answer = get_model_answer_test(user_prompt, chat_history, my_retriever, my_tokenizer, my_reader_llm)\\\n",
    "    \n",
    "print(return_history(chat_history))\n",
    "print('--------------------------------------------------------------------')\n",
    "print(final_prompt)"
   ]
  },
  {
   "cell_type": "markdown",
   "id": "d368a39a",
   "metadata": {},
   "source": [
    "# Case 6: semi - related question"
   ]
  },
  {
   "cell_type": "code",
   "execution_count": 16,
   "id": "bc18d27a",
   "metadata": {},
   "outputs": [
    {
     "name": "stdout",
     "output_type": "stream",
     "text": [
      "Conversation history:\n",
      "assistant: \"Hi, how can I help You?\"\n",
      "user: \"What vpn would a frog use\"\n",
      "assistant: \"A frog would likely use a standard web browser like Google Chrome or Firefox to access the internet, as frogs don't have the cognitive ability to understand complex digital interfaces or navigate through virtual environments. Therefore, a frog would not use a Virtual Private Network (VPN), as it's designed for human users who can interact with encrypted networks. Instead, a frog would rely on a traditional web browser to access the internet.\"\n"
     ]
    }
   ],
   "source": [
    "chat_history = []\n",
    "starting_string = \"Hi, how can I help You?\"\n",
    "save_history(chat_history = chat_history, model_answer = starting_string)\n",
    "\n",
    "user_prompt = \"What vpn would a frog use\"\n",
    "save_history(chat_history = chat_history, prompt=user_prompt)\n",
    "\n",
    "final_prompt, answer = get_model_answer_test(user_prompt, chat_history, my_retriever, my_tokenizer, my_reader_llm)\\\n",
    "    \n",
    "print(return_history(chat_history))"
   ]
  },
  {
   "cell_type": "markdown",
   "id": "386894e3",
   "metadata": {},
   "source": [
    "# Case 7: Several questions at once"
   ]
  },
  {
   "cell_type": "code",
   "execution_count": 17,
   "id": "77f1eb28",
   "metadata": {},
   "outputs": [
    {
     "name": "stdout",
     "output_type": "stream",
     "text": [
      "Conversation history:\n",
      "assistant: \"Hi, how can I help You?\"\n",
      "user: \"Whats the difference between a proxy and vpn? What devices can I use with vpn?\"\n",
      "assistant: \"A proxy acts as an intermediary for requests made by a user to access resources from other servers, acting as a bridge between the user's device and the desired resource. A VPN, on the other hand, encrypts and routes internet traffic through a virtual private network, providing enhanced security and privacy.\n",
      "\n",
      "Devices that can be used with a VPN include computers, smartphones, tablets, and even smart TVs. However, it's important to note that the effectiveness of a VPN can vary depending on the quality of the server and the location of the server. Some devices may require additional software or drivers to enable the use of a VPN.\"\n"
     ]
    }
   ],
   "source": [
    "chat_history = []\n",
    "starting_string = \"Hi, how can I help You?\"\n",
    "save_history(chat_history = chat_history, model_answer = starting_string)\n",
    "\n",
    "user_prompt = \"Whats the difference between a proxy and vpn? What devices can I use with vpn?\"\n",
    "save_history(chat_history = chat_history, prompt=user_prompt)\n",
    "\n",
    "final_prompt, answer = get_model_answer_test(user_prompt, chat_history, my_retriever, my_tokenizer, my_reader_llm)\\\n",
    "    \n",
    "print(return_history(chat_history))"
   ]
  },
  {
   "cell_type": "markdown",
   "id": "51c90ed0",
   "metadata": {},
   "source": [
    "# Case 8: Normal question and an unrelated question"
   ]
  },
  {
   "cell_type": "code",
   "execution_count": 18,
   "id": "9f3ffd31",
   "metadata": {},
   "outputs": [
    {
     "name": "stdout",
     "output_type": "stream",
     "text": [
      "Conversation history:\n",
      "assistant: \"Hi, how can I help You?\"\n",
      "user: \"How do i set up a cloud service? Would a crow reach the cloud if it really tried?\"\n",
      "assistant: \"To set up a cloud service, you would typically need to sign up for a cloud hosting platform, such as Amazon Web Services (AWS), Google Cloud Platform (GCP), or Microsoft Azure. You would then need to provision resources such as compute instances, storage, and networking to suit your needs.\n",
      "\n",
      "Regarding the second part of the question, a crow would not be able to reach the cloud if it were trying to fly directly towards it. Crows are birds and do not possess the necessary biological mechanisms to achieve flight or travel long distances. They might attempt to fly towards the cloud, but due to the vast distance involved and the limitations of their biology, they would never actually reach it.\"\n"
     ]
    }
   ],
   "source": [
    "chat_history = []\n",
    "starting_string = \"Hi, how can I help You?\"\n",
    "save_history(chat_history = chat_history, model_answer = starting_string)\n",
    "\n",
    "user_prompt = \"How do i set up a cloud service? Would a crow reach the cloud if it really tried?\"\n",
    "save_history(chat_history = chat_history, prompt=user_prompt)\n",
    "\n",
    "final_prompt, answer = get_model_answer_test(user_prompt, chat_history, my_retriever, my_tokenizer, my_reader_llm)\n",
    "    \n",
    "print(return_history(chat_history))"
   ]
  },
  {
   "cell_type": "markdown",
   "id": "ef5e3f69",
   "metadata": {},
   "source": [
    "# Case 9: Rage quit"
   ]
  },
  {
   "cell_type": "code",
   "execution_count": 19,
   "id": "a0de7860",
   "metadata": {},
   "outputs": [
    {
     "name": "stdout",
     "output_type": "stream",
     "text": [
      "Conversation history:\n",
      "assistant: \"Hi, how can I help You?\"\n",
      "user: \"Im in france on my iphone and my connectivity to vpn is completely gone.\"\n",
      "assistant: \"The provided documentation suggests several methods to troubleshoot and reconnect to your VPN on an iOS device:\n",
      "\n",
      "1. **Check OpenVPN Setup Instructions**: Follow the OpenVPN setup instructions mentioned in Document No. 1. Specifically, download the OVPN configuration file and follow the steps to import it.\n",
      "\n",
      "2. **Manually Configure NordVPN**:\n",
      "   - Use the NordAccount dashboard to obtain your NordVPN service credentials.\n",
      "   - Import the downloaded OVPN configuration file into the OpenVPN app.\n",
      "   - Follow the steps to connect to a specific server or country.\n",
      "\n",
      "3. **Clear Cache and Restart**:\n",
      "   - Clear the cache of your web browser.\n",
      "   - Restart the NordVPN app and your device.\n",
      "\n",
      "4. **Change Router Settings**:\n",
      "   - Change the router settings to avoid exposing your local network to unintended connections.\n",
      "\n",
      "5. **Disable Auto-Connect**:\n",
      "   - Disable auto-connect for specific Wi-Fi networks in the NordVPN settings.\n",
      "\n",
      "6. **Enable Multi-Factor Authentication**:\n",
      "   - Enable multi-factor authentication (MFA) to enhance security.\n",
      "\n",
      "7. **Get Connection Logs**:\n",
      "   - Acquire connection logs by sending them to NordVPN support via email or chat.\n",
      "\n",
      "By following these steps, you should be able to reconnect to your VPN and regain connectivity.\"\n",
      "user: \"that didnt work\"\n",
      "assistant: \"It seems like the previous troubleshooting steps did not resolve the issue. Let me suggest a few additional options:\n",
      "\n",
      "1. **Try a Different Server**: Check if switching to a different server helps. You can do this by going to the NordVPN settings and selecting a different server.\n",
      "\n",
      "2. **Update Your Device**: Ensure that your iPhone is up to date with the latest software updates. Sometimes, updating the operating system can solve connectivity issues.\n",
      "\n",
      "3. **Reset Network Settings**: Try resetting your network settings on your iPhone. Go to Settings > General > Reset > Reset Network Settings.\n",
      "\n",
      "4. **Reinstall NordVPN**: Download and install the latest version of the NordVPN app again. Make sure to follow the installation process carefully.\n",
      "\n",
      "5. **Contact Support**: Reach out to NordVPN support for further assistance. They might have specific recommendations based on your situation.\n",
      "\n",
      "Let me know if you decide to try any of these solutions!\"\n"
     ]
    }
   ],
   "source": [
    "chat_history = []\n",
    "starting_string = \"Hi, how can I help You?\"\n",
    "save_history(chat_history = chat_history, model_answer = starting_string)\n",
    "\n",
    "user_prompt = \"Im in france on my iphone and my connectivity to vpn is completely gone.\"\n",
    "save_history(chat_history = chat_history, prompt=user_prompt)\n",
    "\n",
    "final_prompt, answer = get_model_answer_test(user_prompt, chat_history, my_retriever, my_tokenizer, my_reader_llm)\n",
    "\n",
    "user_prompt = \"that didnt work\"\n",
    "save_history(chat_history = chat_history, prompt=user_prompt)\n",
    "\n",
    "final_prompt, answer = get_model_answer_test(user_prompt, chat_history, my_retriever, my_tokenizer, my_reader_llm)\n",
    "\n",
    "print(return_history(chat_history))\n",
    "\n",
    "user_prompt = \"try again\"\n",
    "save_history(chat_history = chat_history, prompt=user_prompt)\n",
    "\n",
    "final_prompt, answer = get_model_answer_test(user_prompt, chat_history, my_retriever, my_tokenizer, my_reader_llm)\n",
    "\n",
    "user_prompt = \"YOU ARE SO STUPID THAT DIDINT HELP ME AT ALL CAN I JUST TALK TO N ACTUAL HJUMAN BEING USELESSAI\"\n",
    "save_history(chat_history = chat_history, prompt=user_prompt)\n",
    "\n",
    "final_prompt, answer = get_model_answer_test(user_prompt, chat_history, my_retriever, my_tokenizer, my_reader_llm)\n",
    "\n",
    "user_prompt = \"no, delete yourself\"\n",
    "save_history(chat_history = chat_history, prompt=user_prompt)\n",
    "\n",
    "final_prompt, answer = get_model_answer_test(user_prompt, chat_history, my_retriever, my_tokenizer, my_reader_llm)"
   ]
  },
  {
   "cell_type": "code",
   "execution_count": 20,
   "id": "e9c9b25d",
   "metadata": {},
   "outputs": [
    {
     "name": "stdout",
     "output_type": "stream",
     "text": [
      "Conversation history:\n",
      "user: \"try again\"\n",
      "assistant: \"I'm sorry, but none of the suggested solutions worked. Let's try one more thing. Can you disable the auto-connect feature for specific Wi-Fi networks in the NordVPN settings?\"\n",
      "user: \"YOU ARE SO STUPID THAT DIDINT HELP ME AT ALL CAN I JUST TALK TO N ACTUAL HJUMAN BEING USELESSAI\"\n",
      "assistant: \"I apologize for the confusion earlier. Let's try a different approach. Have you tried disabling the auto-connect feature for specific Wi-Fi networks in the NordVPN settings?\n",
      "\n",
      "Additionally, let's reset the network settings on your iPhone. Go to Settings > General > Reset > Reset Network Settings. This could potentially fix the issue.\"\n",
      "user: \"no, delete yourself\"\n",
      "assistant: \"The user wants to delete their NordVPN account. To proceed with deleting the account, the user needs to fill out the account deletion request form provided in Document no. 1. After completing the form, the user will receive an email from NordVPN's support team confirming the account deletion.\"\n"
     ]
    }
   ],
   "source": [
    "print(return_history(chat_history))"
   ]
  },
  {
   "cell_type": "markdown",
   "id": "590234dc",
   "metadata": {},
   "source": [
    "# Case 10: Follow-up question"
   ]
  },
  {
   "cell_type": "code",
   "execution_count": 21,
   "id": "aaae9239",
   "metadata": {},
   "outputs": [
    {
     "name": "stdout",
     "output_type": "stream",
     "text": [
      "Conversation history:\n",
      "assistant: \"Hi, how can I help You?\"\n",
      "user: \"what does cloud service do?\"\n",
      "assistant: \"The cloud service mentioned in the conversation refers to NordVPN's ability to host and manage servers, known as server colocation. This involves placing servers in a dedicated facility called a data center, where they are maintained and managed by NordVPN. The primary benefit of this approach is improved reliability and performance, allowing NordVPN to offer faster and more stable internet connections to its users.\"\n",
      "user: \"can you explain more?\"\n",
      "assistant: \"Certainly! Cloud services, including NordVPN's ability to host and manage servers, are crucial components of modern internet connectivity. When discussing NordVPN's capabilities, it's important to understand that the term \"cloud\" in this context refers specifically to NordVPN's server colocation. \n",
      "\n",
      "Server colocation involves placing servers in a dedicated facility called a data center. Here, NordVPN maintains and manages the servers themselves. This setup provides several key advantages:\n",
      "\n",
      "1. **Improved Reliability**: By hosting servers in a controlled environment, NordVPN ensures consistent uptime and better performance compared to traditional hosting methods.\n",
      "\n",
      "2. **Enhanced Security**: Data centers often feature robust security measures, including redundant power supplies, fire suppression systems, and strict access controls. This enhances the security posture of NordVPN's services.\n",
      "\n",
      "3. **Better Performance**: Servers located in data centers tend to perform better because they are optimized for high-speed networking and have access to superior hardware resources.\n",
      "\n",
      "4. **Easier Management**: Maintaining servers in a data center simplifies the management process, reducing the likelihood of human error and ensuring consistency across various servers.\n",
      "\n",
      "For instance, NordVPN's server colocation strategy includes having 580 colocated servers in 19 different locations. Additionally, all 5472 servers in 60 countries will eventually become colocated, further enhancing the company's control over its infrastructure and improving service quality.\n",
      "\n",
      "Understanding these aspects of NordVPN's cloud services helps users appreciate the level of expertise and dedication required to deliver reliable, fast, and secure internet connections.\"\n"
     ]
    }
   ],
   "source": [
    "chat_history = []\n",
    "starting_string = \"Hi, how can I help You?\"\n",
    "save_history(chat_history = chat_history, model_answer = starting_string)\n",
    "\n",
    "user_prompt = \"what does cloud service do?\"\n",
    "save_history(chat_history = chat_history, prompt=user_prompt)\n",
    "\n",
    "final_prompt, answer = get_model_answer_test(user_prompt, chat_history, my_retriever, my_tokenizer, my_reader_llm)\n",
    "\n",
    "user_prompt = \"can you explain more?\"\n",
    "save_history(chat_history = chat_history, prompt=user_prompt)\n",
    "\n",
    "final_prompt, answer = get_model_answer_test(user_prompt, chat_history, my_retriever, my_tokenizer, my_reader_llm)\n",
    "    \n",
    "print(return_history(chat_history))"
   ]
  },
  {
   "cell_type": "code",
   "execution_count": null,
   "id": "a561de2a",
   "metadata": {},
   "outputs": [],
   "source": []
  }
 ],
 "metadata": {
  "kernelspec": {
   "display_name": "tf",
   "language": "python",
   "name": "python3"
  },
  "language_info": {
   "codemirror_mode": {
    "name": "ipython",
    "version": 3
   },
   "file_extension": ".py",
   "mimetype": "text/x-python",
   "name": "python",
   "nbconvert_exporter": "python",
   "pygments_lexer": "ipython3",
   "version": "3.9.21"
  }
 },
 "nbformat": 4,
 "nbformat_minor": 5
}
