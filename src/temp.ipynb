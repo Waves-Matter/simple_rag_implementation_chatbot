{
 "cells": [
  {
   "cell_type": "code",
   "execution_count": null,
   "id": "cb82d015",
   "metadata": {},
   "outputs": [],
   "source": [
    "import os\n",
    "\n",
    "from retriever import get_retriever\n",
    "import json"
   ]
  },
  {
   "cell_type": "code",
   "execution_count": 2,
   "id": "b943a650",
   "metadata": {},
   "outputs": [],
   "source": [
    "file_path = \"C:\\Cods\\ChatBot\\docs\\hc_articles.json\"\n",
    "embed_model_name = \"thenlper/gte-small\" \n",
    "llm_model_name = \"HuggingFaceH4/zephyr-7b-beta\""
   ]
  },
  {
   "cell_type": "code",
   "execution_count": 3,
   "id": "7e181035",
   "metadata": {},
   "outputs": [
    {
     "name": "stderr",
     "output_type": "stream",
     "text": [
      "c:\\Users\\Ugne\\anaconda3\\envs\\tf\\lib\\site-packages\\tqdm\\auto.py:21: TqdmWarning: IProgress not found. Please update jupyter and ipywidgets. See https://ipywidgets.readthedocs.io/en/stable/user_install.html\n",
      "  from .autonotebook import tqdm as notebook_tqdm\n"
     ]
    }
   ],
   "source": [
    "my_retriever = get_retriever(file_path, embed_model_name)"
   ]
  },
  {
   "cell_type": "code",
   "execution_count": 4,
   "id": "db194f7b",
   "metadata": {},
   "outputs": [
    {
     "name": "stdout",
     "output_type": "stream",
     "text": [
      "page_content='{\"url\": \"https://support.nordvpn.com/hc/en-us/articles/20289779952017-How-to-start-using-NordVPN\", \"title\": \"How to start using NordVPN\", \"name\": \"How to start using NordVPN\", \"body\": \"If you are interested in starting to use the NordVPN service but are unsure how to do so, this article will introduce you to the steps needed to begin using NordVPN today.\\u00a0 Download the NordVPN application.\\u00a0If you are not sure how to install and set up the application, choose the OS\\u00a0you're going to use and follow the guidelines for the procedure: Install NordVPN on Windows 7 and 8.1\\u00a0 Install NordVPN on Windows 10 and 11\\u00a0 Install NordVPN on macOS\\u00a0 Install NordVPN on Linux\\u00a0 Install NordVPN on Android\\u00a0  Install NordVPN on iOSIn these guides, you can learn about the features that NordVPN offers!\\u00a0  After you have set up the application - you need to\\u00a0purchase the desired plan.The following article will introduce you to\\u00a0NordVPN Plans and Prices.\\u00a0And if you're uncertain how to proceed with the purchase, read the article on\\u00a0purchasing a NordVPN subscription.\\u00a0 After you have Installed the application and purchased your desired plan, you need to connect to the VPN to experience its features.In order to secure a VPN connection\\u00a0- you can use the\\u00a0Quick Connect\\u00a0button.To connect to specific locations\\u00a0-\\u00a0use the\\u00a0dots on the map, pick a country from the\\u00a0All Countries list, or you can connect to a specific country/server\\u00a0via\\u00a0the search bar.In order to secure a VPN connection on\\u00a0a\\u00a0Linux\\u00a0device, you will need to type commands like\\u00a0nordvpn connect nordvpn cTo connect to specific servers, use:nordvpn connect <country_code\\u00a0server_number>\\u00a0(eg.\\u00a0nordvpn\\u00a0connect uk715) That's it! Now you can begin using the app and investigating the different features.\"}' metadata={'seq_num': 122, 'source': 'C:\\\\Cods\\\\ChatBot\\\\docs\\\\hc_articles.json'}\n",
      "---------------------\n",
      "page_content='{\"url\": \"https://support.nordvpn.com/hc/en-us/articles/19749554331793-How-to-set-up-a-manual-connection-on-Windows-using-OpenVPN\", \"title\": \"How to set up a manual connection on Windows using OpenVPN\", \"name\": \"How to set up a manual connection on Windows using OpenVPN\", \"body\": \"The OpenVPN GUI application is an alternative option to connecting to NordVPN servers on your Windows PC. If you prefer manual connection and tinkering with open-source software, this is a good way of connecting to NordVPN. That said, it lacks the additional features of the\\u00a0NordVPN native app, but it still uses the same VPN protocol \\u2014 OpenVPN. It's also more complicated to set up, so here are instructions to guide you through the process.   Download the OpenVPN GUI application.Note: Make sure to choose the application version according to your Windows device version:For\\u00a0Windows 64-bit;For\\u00a0Windows ARM64;For\\u00a0Windows 32-bit.\\u00a0\\u00a0 \\u00a0 \\u00a0 \\u00a0 \\u00a0 \\u00a0 \\u00a0 \\u00a0 \\u00a0 \\u00a0 \\u00a0 \\u00a0 Open the installation file and follow the instructions in the setup wizard.\\u00a0 Once the application is installed,\\u00a0download the NordVPN server configuration files. The OpenVPN app uses them to connect to specific NordVPN servers.  Follow the steps below to find the manual connection configuration files:  Log into your Nord Account, and click NordVPN.\\u00a0 Scroll down to Advanced Settings and click Set up NordVPN manually.\\u00a0 Select the OpenVPN configuration files tab.\\u00a0 Find the server you wish to connect to by using the Search bar or by scrolling down and download it by clicking Download UDP or Download TCP.\\u00a0 When connecting to OpenVPN & IKEv2 manually, you're going to need to use the Username and Password from the Service credential tab.    Go to the folder where you downloaded the configuration files, select them all, then right-click and choose \\u201cCopy.\\u201d Paste the configuration files to this directory:\\u00a0 C:\\\\Program Files\\\\OpenVPN\\\\config\\\\ 5.1. To quickly find the OpenVPN\\\\config\\\\ folder, right-click the OpenVPN GUI shortcut on your desktop and select \\u201cOpen file location.\\u201d5.2. Once you're there, click the parent OpenVPN folder in the address bar.Open the\\u00a0\\\"Config\\\"\\u00a0folder.5.3. Paste the copied configuration files in the folder by right-clicking anywhere in the folder and selecting \\\"Paste\\\":Click \\\"Continue\\\"\\u00a0to allow the files to be extracted to the folder.Note: if you are using Windows 10, add an extra line in the configuration files to prevent possible\\u00a0DNS leaks: To do that, open the downloaded .ovpn configuration file with any text editor and paste this line:block-outside-dnsSave the file before proceeding to the next step of this tutorial.  Now that the configuration files are in the proper folder for the application to detect them, open the OpenVPN GUI app by double-clicking the shortcut on your desktop.\\u00a0 Allow\\u00a0the application to make changes to your device because they are necessary for a VPN connection.\\u00a0 The application will start running in the system tray, which is the notification area next to your device\\u2019s clock:It might also be in the hidden system tray area:\\u00a0 Right-click on the application icon, hover over one of the servers, and click \\u201cConnect.\\u201d\\u00a0 Enter your NordVPN service username and password, then click \\u201cOK.\\u201d   Follow the steps below to find the service credentials for manual connection setup:  Log into your Nord Account, and click NordVPN.\\u00a0 Scroll down to Advanced Settings and click Set up NordVPN manually.\\u00a0 Select the Service credentials tab, where you'll find the Username and Password needed to connect manually.    In a few seconds, the application will connect and close the window. The system tray icon will turn green and show your connection status when you hover over it.   And that's it! You should be successfully connected. To disconnect, right-click on the application icon, hover over the server, and click \\u201cDisconnect.\\u201d\"}' metadata={'seq_num': 223, 'source': 'C:\\\\Cods\\\\ChatBot\\\\docs\\\\hc_articles.json'}\n",
      "---------------------\n",
      "page_content='{\"url\": \"https://support.nordvpn.com/hc/en-us/articles/20398426993809-Installing-and-using-NordVPN-on-openSUSE-Linux\", \"title\": \"Installing and using NordVPN on openSUSE Linux\", \"name\": \"Installing and using NordVPN on openSUSE Linux\", \"body\": \" This tutorial explains how to\\u00a0download and install\\u00a0the NordVPN app on\\u00a0openSUSE\\u00a0distribution, login, and\\u00a0connect to\\u00a0our servers. You can also find an explanation of various\\u00a0settings.\\u00a0 1. Download the NordVPN Linux client by opening the terminal, writing\\u00a0the\\u00a0command below, and following any on-screen instructions: sh <(curl -sSf\\u00a0https://downloads.nordcdn.com/apps/linux/install.sh)  Note: If you do not have a\\u00a0curl\\u00a0package, evidenced by the fact that the above does not work,\\u00a0you can alternatively use this command:sh <(wget -qO\\u00a0-\\u00a0https://downloads.nordcdn.com/apps/linux/install.sh) Additionally, if you receive the\\u00a0following issue:\\u00a0Whoops! Permission denied accessing /run/nordvpn/nordvpnd.sock,\\u00a0all you need to do is write the following command:\\u00a0sudo usermod -aG nordvpn $USER and then reboot your device. 2. Log in to your NordVPN account: nordvpn login3. Connect to a NordVPN server: nordvpn\\u00a0connect SettingsTo access the NordVPN client settings, type the\\u00a0nordvpn\\u00a0command in a Terminal. Here is the list of available commands: nordvpn login\\u00a0- Log in.nordvpn connect\\u00a0or\\u00a0nordvpn c\\u00a0- Connect to VPN.\\u00a0To connect to specific servers, use\\u00a0nordvpn connect <country_code\\u00a0server_number>\\u00a0(eg.\\u00a0nordvpn\\u00a0connect uk715)nordvpn disconnect\\u00a0or\\u00a0nordvpn d\\u00a0- Disconnect from VPN.nordvpn connect US -g double_vpn\\u00a0-\\u00a0Connect to a Double VPN server where the first hop is a specific country nordvpn connect P2P\\u00a0- connect to a P2P server.nordvpn connect\\u00a0The_Americas\\u00a0- connect to servers located in the Americas.nordvpn connect Dedicated_IP\\u00a0- connect to a Dedicated IP server.nordvpn connect --group p2p <country_code>\\u00a0-\\u00a0\\u00a0Connect to a specific country using P2P servers. nordvpn set\\u00a0or\\u00a0nordvpn s\\u00a0- Set\\u00a0a configuration option. Possible options:nordvpn set threatprotection on\\u00a0or\\u00a0off\\u00a0-\\u00a0Enable or disable\\u00a0Threat Protectionnordvpn set killswitch on\\u00a0or\\u00a0off\\u00a0-\\u00a0Enable or disable\\u00a0Kill Switchnordvpn set autoconnect on\\u00a0or\\u00a0off\\u00a0-\\u00a0Enable or disable Autoconnect. You can set a specific server for automatic connection using\\u00a0nordvpn set autoconnect on country_code+server_number. Example:\\u00a0nordvpn set autoconnect on us2435.nordvpn set dns 1.1.1.1\\u00a01.0.0.1\\u00a0-\\u00a0Set custom DNS (you can set up a single DNS or two like shown in this command).nordvpn set protocol udp\\u00a0or\\u00a0tcp\\u00a0-\\u00a0Switch between UDP and TCP protocolsnordvpn set obfuscate on\\u00a0or\\u00a0off\\u00a0- Enable or disable\\u00a0Obfuscated Servers.nordvpn set lan-discovery enable\\u00a0or\\u00a0disable\\u00a0-\\u00a0enable/disable LAN discovery.nordvpn set lan-discovery --help\\u00a0- get more information on LAN discovery.nordvpn whitelist add port 22\\u00a0- Open incoming port 22 (the port number can be different)nordvpn whitelist remove port 22\\u00a0- Remove the rule added with the above commandnordvpn whitelist add subnet 192.168.0.0/16\\u00a0- Add a rule to allowlist\\u00a0your specified subnet.nordvpn whitelist remove subnet 192.168.0.0/16\\u00a0\\u00a0- Remove a rule to allowlist\\u00a0your specified subnet.nordvpn settings\\u00a0- See the current settings.nordvpn status\\u00a0- See the connection status.nordvpn countries\\u00a0- See the country list.nordvpn cities\\u00a0- See the city\\u00a0list.\\u00a0E.g.:\\u00a0nordvpn cities united_statesnordvpn groups\\u00a0- See a\\u00a0list of available server groups.nordvpn logout\\u00a0- Log\\u00a0out.nordvpn help\\u00a0or\\u00a0nordvpn h\\u00a0- See the list of commands or help for one command. You can see the full list of\\u00a0commands by using\\u00a0man nordvpn command in a terminal. \"}' metadata={'seq_num': 50, 'source': 'C:\\\\Cods\\\\ChatBot\\\\docs\\\\hc_articles.json'}\n",
      "---------------------\n",
      "page_content='{\"url\": \"https://support.nordvpn.com/hc/en-us/articles/19472023025169-Installing-and-using-NordVPN-on-Windows-10-and-11\", \"title\": \"Installing and using NordVPN on Windows 10 and 11\", \"name\": \"Installing and using NordVPN on Windows 10 and 11\", \"body\": \" This guide will show you how you can set up the NordVPN application on your Windows 10 or Windows 11 device. If you need a guide on installing and using NordVPN on an\\u00a0older Windows system, follow the guide here. Table of contents: Downloading and installingSetting up the applicationChoosing between different servers  Connect to a specific server Connect to a specific country  FeaturesNordVPN settings menu  General Connection Kill Switch Split Tunneling Profile Refer a friend Discover other Nord products   Downloading and installing the NordVPN app    Download the NordVPN app.\\u00a0 Go to your\\u00a0Downloads\\u00a0folder and double-click the\\u00a0NordVPNInstall\\u00a0file.\\u00a0 \\u00a0\\u00a0 A pop-up window may ask you if you allow the app to make changes to your device. Click Yes. The installer window will open. Click\\u00a0Next.  Tick the boxes if you want shortcuts for the NordVPN app on your Desktop and/or the\\u00a0Start menu, then click Next and\\u00a0Install.  The installer will proceed with the installation process. Once it\\u2019s complete, you will be asked if you want to launch NordVPN right away. Click Finish to complete the setup.   Setting up and using NordVPN  Click on the NordVPN logo on your desktop, and after the app loads up, click Log In to continue.\\u00a0 Your browser will open up and load the Nord Account login page. First, enter your username or email address, press Continue,\\u00a0and then\\u00a0enter your password. If you do not have an account and an active subscription, click here and learn how to get one.   To start using NordVPN straight away, you can press on\\u00a0Quick Connect, wait till you see the status change from\\u00a0Not connected\\u00a0to Connected,\\u00a0and you're good to go for a secure and private session!\\u00a0However, for a full understanding of what the NordVPN app offers, let's briefly go over what you can find on the main screen.   Quick Connect: this option automatically connects you to the fastest and closest NordVPN server.\\u00a0  Disconnect button: lets you disconnect from a NordVPN server.  Refresh button: this option refreshes your current connection and switches to a new recommended server.  Expander: arrow down will provide connection choice and a search bar for specific servers.  Recent connections: shows flags of the countries that you recently connected to.  Search bar:\\u00a0one of the ways you can connect to NordVPN servers.\\u00a0Use the\\u00a0search bar to find specific servers by typing in the name of the country, city,\\u00a0server number,\\u00a0or specialty server type. Learn more about VPN servers.   Specialty servers: NordVPN offers multiple categories of servers, each one with its unique benefits. We have a dedicated article explaining the different types in detail: What do the different server categories mean?   All countries: a list of countries you can connect to. Hovering over a country's name reveals additional options, such as specifying the city (if applicable) and\\u00a0server name.    Features On the left side menu, you can find all the additional features that NordVPN offers.    Main screen icon: this forwards you to the main application screen and helps you find your wanted location.  Threat Protection Pro\\u2122: it\\u2019s a special NordVPN feature that automatically blocks ads, trackers, and malicious URLs. When you visit a website known for scamming people, this feature displays an in-browser alert to warn you about possible fraud. Threat Protection Pro\\u2122 also scans downloads for malware and checks your apps for security vulnerabilities. Available with selected NordVPN plans, Threat Protection Pro\\u2122 can work without an active VPN connection. Learn about it here.  Meshnet: this feature allows you to create\\u00a0a secure, private\\u00a0network\\u00a0for many devices located anywhere in the world, access them remotely, and\\u00a0send all your online traffic through another device.  Dark Web Monitor:\\u00a0scans the internet for any credential leaks associated with your registered NordVP e-mail address. To find more information about it click\\u00a0here.  Contact us: gives a form to fill out and reach out to our customer support team.\\u00a0  Security score: recommend steps to follow to become fully protected online.  Settings: lets you change the general, subscription, and connection settings\\u00a0   Choosing between different NordVPN servers  Using the search bar. You can connect to specific servers by typing\\u00a0in a category, region, or a specific server\\u00a0number with a hashtag (e.g. United States #4735) to find what you need.Using the All Countries\\u00a0list or the Servers map. Click on the nodes on the map or on the specific\\u00a0country in the list to connect to the best server in the given location.\\u00a0Clicking on the three dots next to the country name reveals additional connection options, such as the ability to select a specific city.  NordVPN settings menu  In the\\u00a0Settings\\u00a0tab, you can set up the application to your liking. To open the settings menu, press on the cogwheel icon in the bottom left corner.\\u00a0After opening settings, you will be introduced to 7 different settings sections. Down below, you will find an explanation of each settings section. General   Launch at Windows startup\\u00a0makes NordVPN run automatically when you start your computer.\\u00a0Enabled by default.  Launch the app\\u00a0minimized to the system tray\\u00a0displays the NordVPN icon only in the Windows system tray when the computer starts (instead of opening the main window).\\u00a0Enabled by default.  Show VPN connection status notifications\\u00a0show Windows notifications each time you connect or disconnect from a server.\\u00a0Enabled by default.  Appearance lets you choose your preferred theme for the NordVPN application.  Language dropdown lets you\\u00a0select your preferred language of the NordVPN app.  Help us improve\\u00a0by\\u00a0sending us aggregated anonymous data for future improvement analysis.  Diagnostics\\u00a0run the NordVPN diagnostics tool if you\\u2019re having technical issues. Collect the diagnostic data and provide the ticket ID to our support staff for further assistance. If the diagnostics tool does not give you a ticket ID, you can send the .zip file to our support staff instead.  Allow background processes to let the NordVPN application run after closing the app.\\u00a0    Connection    VPN protocol\\u00a0UDP is mainly used for streaming and downloading.\\u00a0TCP is more reliable but also a little slower and is usually used for web browsing. Nordlynx\\u00a0  Auto-connect\\u00a0lets you select your preferred country or server type, which the app will\\u00a0automatically connect to. You will be able to select a specific city after you select a preferred country.On all networks: connects you automatically no matter what network you use.Wi-Fi networks: connect you automatically only when using a Wi-Fi network.On Ethernet: connects you automatically when using ethernet.\\u00a0  Trusted Wi-Fi networks\\u00a0disable Auto-connect on specific Wi-Fi networks. For example, you can make an exception for your home Wi-Fi if you trust it.  Quick connect on the app launch\\u00a0makes the app connect to a server automatically upon starting when using an Ethernet connection or Wi-Fi network. It does not apply to Trusted Wi-Fi networks.\\u00a0Disabled by default.  Custom DNS\\u00a0lets you\\u00a0specify a particular DNS server for the NordVPN application.  Invisibility on LAN makes your computer invisible to others on the same local area network (LAN). Remember that once enabled, you will not be able to connect to devices on the same LAN, like printers. Disabled by default.   Allow remote access while connected to VPN to access your Windows device remotely.\\u00a0Disabled by default.IMPORTANT NOTE: you will lose internet connectivity while connected to a Trusted Wi-Fi with enabled Internet Kill Switch.    Kill Switch    Internet Kill Switch\\u00a0cuts off your internet connection when you\\u2019re disconnected from secure NordVPN servers. Disabled by default.   App Kill Switch\\u00a0shuts down specified programs if you lose a VPN connection. For example, if you add Skype to the list, NordVPN will close it whenever you disconnect. Since it takes a few seconds to reach a secure VPN server, this will prevent your data from leaking upon automatically reconnecting to the internet.\\u00a0Disabled by default.   Split Tunneling   Split tunneling allows you to exclude applications from the VPN connection. In other words, the apps which you select to add into the split tunneling feature will allow them to stay unaffected by NordVPN.\\u00a0    Profile    Subscription lets you manage your subscription, cancel its auto-renewal, or re-subscribe for the service.  Multi-factor authentication (MFA) is a security feature that helps protect access to your account. When MFA is turned on, you must pass an extra step during the log-in process.\\u00a0  Get NordVPN for all your devices and stay protected all the time.    Refer a friend   It provides you\\u00a0with your personal referral link that you can share with your friends and family and receive a reward for it.    Discover other Nord products\\u00a0\\u00a0  It offers you NordPass, NordLocker, and NordLayer services that will help you to stay fully protected at all times.  \"}' metadata={'source': 'C:\\\\Cods\\\\ChatBot\\\\docs\\\\hc_articles.json', 'seq_num': 345}\n",
      "---------------------\n"
     ]
    },
    {
     "name": "stderr",
     "output_type": "stream",
     "text": [
      "C:\\Users\\Ugne\\AppData\\Local\\Temp\\ipykernel_30504\\3507462887.py:2: LangChainDeprecationWarning: The method `BaseRetriever.get_relevant_documents` was deprecated in langchain-core 0.1.46 and will be removed in 1.0. Use :meth:`~invoke` instead.\n",
      "  results = my_retriever.get_relevant_documents(query)\n"
     ]
    }
   ],
   "source": [
    "query = \"how to install NORDVPN?\"\n",
    "results = my_retriever.get_relevant_documents(query)\n",
    "for result in results:\n",
    "    print(result)\n",
    "    print(\"---------------------\")"
   ]
  },
  {
   "cell_type": "code",
   "execution_count": 7,
   "id": "74d3291b",
   "metadata": {},
   "outputs": [],
   "source": [
    "from transformers import pipeline\n",
    "import torch\n",
    "from transformers import AutoTokenizer, AutoModelForCausalLM, BitsAndBytesConfig"
   ]
  },
  {
   "cell_type": "code",
   "execution_count": 9,
   "id": "000e1243",
   "metadata": {},
   "outputs": [],
   "source": [
    "bnb_config = BitsAndBytesConfig(\n",
    "    load_in_4bit=True,\n",
    "    bnb_4bit_use_double_quant=True,\n",
    "    bnb_4bit_quant_type=\"nf4\",\n",
    "    bnb_4bit_compute_dtype=torch.bfloat16,\n",
    ")\n",
    "\n",
    "model = AutoModelForCausalLM.from_pretrained(\"HuggingFaceTB/SmolLM2-135M-Instruct\", quantization_config=bnb_config)\n",
    "tokenizer = AutoTokenizer.from_pretrained(\"HuggingFaceTB/SmolLM2-135M-Instruct\")"
   ]
  },
  {
   "cell_type": "code",
   "execution_count": 11,
   "id": "3e368203",
   "metadata": {},
   "outputs": [
    {
     "name": "stderr",
     "output_type": "stream",
     "text": [
      "Device set to use cuda:0\n"
     ]
    }
   ],
   "source": [
    "READER_LLM = pipeline(\n",
    "    model=model,\n",
    "    tokenizer=tokenizer,\n",
    "    task=\"text-generation\",\n",
    "    do_sample=True,\n",
    "    temperature=0.1,\n",
    "    return_full_text=False,\n",
    "    max_new_tokens=1000,\n",
    ")"
   ]
  },
  {
   "cell_type": "code",
   "execution_count": 12,
   "id": "10740651",
   "metadata": {},
   "outputs": [],
   "source": [
    "from langchain.prompts import ChatPromptTemplate"
   ]
  },
  {
   "cell_type": "code",
   "execution_count": 13,
   "id": "3f8d3c3d",
   "metadata": {},
   "outputs": [],
   "source": [
    "template = \"\"\"You are a helpful assistant. Answer the question based only on the following context:\n",
    "{context}\n",
    "\n",
    "Question: {question}\n",
    "\"\"\"\n",
    "\n",
    "prompt = ChatPromptTemplate.from_template(template)"
   ]
  },
  {
   "cell_type": "code",
   "execution_count": 15,
   "id": "d6130e9b",
   "metadata": {},
   "outputs": [],
   "source": [
    "results2 = my_retriever.get_relevant_documents(\"What is NORDVPN?\")"
   ]
  },
  {
   "cell_type": "code",
   "execution_count": 20,
   "id": "da01dcc8",
   "metadata": {},
   "outputs": [
    {
     "name": "stdout",
     "output_type": "stream",
     "text": [
      "----------\n",
      "page_content='{\"url\": \"https://support.nordvpn.com/hc/en-us/articles/19685546104209-What-is-NordVPN\", \"title\": \"What is NordVPN\", \"name\": \"What is NordVPN\", \"body\": \"NordVPN is the gateway to a secure and private access to the internet. It works by enveloping all of your online activities\\u00a0in\\u00a0a layer of encryption, while also hiding information about\\u00a0your virtual location. This way, you stay invisible to hackers, your ISP,\\u00a0governmental agencies and other prying eyes lurking throughout the net. At the same time, your data, such as your bank credentials, is\\u00a0protected from potential attacks.\\u00a0 Why would you need NordVPN when... ...staying at home?\\u00a0It's true that there\\u00a0are fewer threats to your online security if you're using a personal, trusted network. However, your privacy is left vulnerable. Browser destinations, internet-using apps and other internet-related information is visible to your ISP. By connecting to a NordVPN server, the only footprint left of your activity is that, well,\\u00a0you've connected to one of our servers\\u00a0\\u2014 that's it. Moreover, if you have to deal with internet throttling, NordVPN will come in handy.\\u00a0...going out?\\u00a0Any time you stop by a caf\\u00e9,\\u00a0library, shop, etc. you're likely to use a\\u00a0publicly available Wi-Fi. These are often targets for hackers, who perform attacks such as the infamously known\\u00a0MITM (Man In The Middle). In short, it means your connection can become intercepted and manipulated so as to extract sensitive information. This can be prevented by connecting a NordVPN server, as your internet traffic will be safely transferred over a VPN tunnel.\\u00a0...travelling abroad?\\u00a0Although you may be enjoying unobstructed internet access in your home country, some governments impose heavy restrictions that can block a myriad of websites and services. Using a VPN can help you\\u00a0avoid these restrictive measures. Additionally, even if you do not face such issues at your point of destination, you may still begin longing for your favorite, geoblocked streaming service.\\u00a0We'll help with this, too.In case you'd like to see the full list of features NordVPN has to offer, check our page here:\\u00a0List of NordVPN's features.\\u00a0How does NordVPN work?  Download and install the NordVPN app. Open the app, then sign up or log in. Connect to a server and check the\\u00a0protected status.\\u00a0 Done!\\u00a0 Of course, this is a\\u00a0simplified look at the process.\\u00a0If you're curious about learning how VPNs work, check out our dedicated article called:\\u00a0What is a VPN?Also, for a\\u00a0detailed\\u00a0set of instructions\\u00a0on how to set up, customize and adjust the app to better fit you,\\u00a0visit our list of tutorials.\\u00a0\\u00a0\"}' metadata={'seq_num': 251, 'source': 'C:\\\\Cods\\\\ChatBot\\\\docs\\\\hc_articles.json'}\n",
      "----------\n",
      "page_content='{\"url\": \"https://support.nordvpn.com/hc/en-us/articles/20321910029585-Should-I-choose-NordVPN-app-or-NordVPN-extension\", \"title\": \"Should I choose NordVPN app or NordVPN extension?\", \"name\": \"Should I choose NordVPN app or NordVPN extension?\", \"body\": \"\\u00a0 When purchasing a NordVPN subscription, you get access to the NordVPN application for Windows, Android, macOS, iOS, and Linux OS devices and the\\u00a0NordVPN proxy extension\\u00a0for your\\u00a0Chrome,\\u00a0Edge, and\\u00a0Firefox\\u00a0browsers. While both provide security and hide your online presence, they do have different\\u00a0additional benefits.\\u00a0 NordVPN extension's main benefits:  NordVPN proxy extension is a more lightweight version of the NordVPN application and does not ask for administrator rights for use.\\u00a0 The proxy extension only secures your browser traffic. To start using the extension, you can add it to your browser with a few simple clicks and avoid the application download and installation process. By clicking on the NordVPN logo in your browser, you can quickly connect/disconnect to 55 countries. The extension allows you to access blocked websites and streaming services without closing or minimizing your browser. You can choose websites you wish to exclude from the secure connection using the\\u00a0Split Tunneling\\u00a0feature.\\u00a0  NordVPN application main benefits:  Has different server categories such as\\u00a0Double VPN Servers,\\u00a0Obfuscated Servers, and\\u00a0Dedicated IP. Let's you choose between\\u00a0OpenVPN and Nordlynx\\u00a0connection protocols. You can prevent your device from making unprotected connections by using the\\u00a0Kill Switch\\u00a0feature. Offers a new secure communication between devices feature -\\u00a0Meshnet. Prevent others from exploiting account information leaked to the dangerous dark web while using the\\u00a0Dark Web Monitor\\u00a0feature.\\u00a0 Allows you to choose specific cities/regions.  Which product version you should use depends on your online security needs. \\u00a0\"}' metadata={'source': 'C:\\\\Cods\\\\ChatBot\\\\docs\\\\hc_articles.json', 'seq_num': 106}\n",
      "----------\n",
      "page_content='{\"url\": \"https://support.nordvpn.com/hc/en-us/articles/19482810153745-Which-NordVPN-protocol-should-I-choose\", \"title\": \"Which NordVPN protocol should I choose\", \"name\": \"Which NordVPN protocol should I choose\", \"body\": \"NordVPN supports a number of security encryption protocols\\u00a0to provide a\\u00a0VPN service. The security levels and purposes of these VPN protocols are different, but so are our customers\\u2019 needs. We encourage you to take a closer look at the strengths and weaknesses of each VPN protocol. While we want you to be able to choose freely, we also feel it\\u2019s our duty to advise you on what might suit you best. 1. OpenVPN OpenVPN is a mature and robust piece of open-source software that enables us to provide a reliable and secure VPN service. It is a versatile VPN protocol that can be used on both TCP and UDP ports. OpenVPN supports a great number of strong encryption algorithms and ciphers: to ensure the protection of your data, we use AES-256-GCM with a 4096-bit DH key. If you are conscious about your security and are wondering what the most stable NordVPN protocol is, we recommend OpenVPN. 2. WireGuard (NordLynx)\\u00a0(Recommended by NordVPN and used by default in most of our apps) WireGuard is the newest and fastest tunneling protocol, and the entire VPN industry is talking about it. It uses state-of-the-art cryptography that outshines the current leader, OpenVPN. However, it\\u2019s still considered experimental, so VPN providers need to look for new solutions (like NordLynx by NordVPN) to overcome WireGuard\\u2019s vulnerabilities. Modern, extremely fast, and incredibly lean in its architecture, WireGuard is backed by thorough academic research. WireGuard consists of only 4,000 lines of code, making it easy to deploy, audit, and fix. To put it into perspective, OpenVPN runs on 400,000 lines of code, meaning that WireGuard makes up only 1% of OpenVPN\\u2019s massive architecture.\\u00a0 NordLynx is currently used by default in NordVPN apps. If you\\u2019re wondering which VPN protocol is best for gaming or other online speed-dependent activities, the answer is always NordLynx.\"}' metadata={'source': 'C:\\\\Cods\\\\ChatBot\\\\docs\\\\hc_articles.json', 'seq_num': 321}\n",
      "----------\n",
      "page_content='{\"url\": \"https://support.nordvpn.com/hc/en-us/articles/20284072795665-NordVPN-for-business\", \"title\": \"NordVPN for business\", \"name\": \"NordVPN for business\", \"body\": \"\\u00a0 Can I use NordVPN for business?\\u00a0 To guarantee a secure connection for you and your business, NordSecurity Team has created a separate product -\\u00a0NordLayer. The NordLayer is an excellent\\u00a0VPN\\u00a0solution for business, that allows you to protect your data from people outside your company, manage your team members and teams, provide secure remote access to companies network, and get a dedicated server with a dedicated IP address. Why is a VPN important for business? Every day various organizations experience cyberattacks and data breaches. In order to avoid unauthorized access to your company's sensitive data, a\\u00a0NordVPN business\\u00a0solution NordLayer is a great option. NordLayer also offers\\u00a0many other features that can be found\\u00a0here. How do I set up a VPN for my business?  Sign up for the\\u00a0NordLayer\\u00a0service by clicking\\u00a0here. A dedicated sales team\\u00a0member will reach out to you. Follow\\u00a0a guide\\u00a0on how to set up NordLayer using different operating systems.  \"}' metadata={'source': 'C:\\\\Cods\\\\ChatBot\\\\docs\\\\hc_articles.json', 'seq_num': 136}\n"
     ]
    },
    {
     "data": {
      "text/plain": [
       "langchain_core.documents.base.Document"
      ]
     },
     "execution_count": 20,
     "metadata": {},
     "output_type": "execute_result"
    }
   ],
   "source": [
    "for thing in results2:\n",
    "    print('----------')\n",
    "    print(thing)\n",
    "    \n",
    "type(thing)"
   ]
  },
  {
   "cell_type": "code",
   "execution_count": 47,
   "id": "6031952c",
   "metadata": {},
   "outputs": [],
   "source": [
    "def get_body_content(document):\n",
    "  \n",
    "    string_text = document.page_content\n",
    "    dat = json.loads(string_text)\n",
    "    body_content = dat.get('body')\n",
    "    body_title = dat.get('title')\n",
    "    body_url = dat.get('url')\n",
    "    return body_content, body_title, body_url"
   ]
  },
  {
   "cell_type": "code",
   "execution_count": 53,
   "id": "81bc49e5",
   "metadata": {},
   "outputs": [
    {
     "name": "stdout",
     "output_type": "stream",
     "text": [
      "Document 1:\n",
      "Title: NordVPN is the gateway to a secure and private access to the internet. It works by enveloping all of your online activities in a layer of encryption, while also hiding information about your virtual location. This way, you stay invisible to hackers, your ISP, governmental agencies and other prying eyes lurking throughout the net. At the same time, your data, such as your bank credentials, is protected from potential attacks.  Why would you need NordVPN when... ...staying at home? It's true that there are fewer threats to your online security if you're using a personal, trusted network. However, your privacy is left vulnerable. Browser destinations, internet-using apps and other internet-related information is visible to your ISP. By connecting to a NordVPN server, the only footprint left of your activity is that, well, you've connected to one of our servers — that's it. Moreover, if you have to deal with internet throttling, NordVPN will come in handy. ...going out? Any time you stop by a café, library, shop, etc. you're likely to use a publicly available Wi-Fi. These are often targets for hackers, who perform attacks such as the infamously known MITM (Man In The Middle). In short, it means your connection can become intercepted and manipulated so as to extract sensitive information. This can be prevented by connecting a NordVPN server, as your internet traffic will be safely transferred over a VPN tunnel. ...travelling abroad? Although you may be enjoying unobstructed internet access in your home country, some governments impose heavy restrictions that can block a myriad of websites and services. Using a VPN can help you avoid these restrictive measures. Additionally, even if you do not face such issues at your point of destination, you may still begin longing for your favorite, geoblocked streaming service. We'll help with this, too.In case you'd like to see the full list of features NordVPN has to offer, check our page here: List of NordVPN's features. How does NordVPN work?  Download and install the NordVPN app. Open the app, then sign up or log in. Connect to a server and check the protected status.  Done!  Of course, this is a simplified look at the process. If you're curious about learning how VPNs work, check out our dedicated article called: What is a VPN?Also, for a detailed set of instructions on how to set up, customize and adjust the app to better fit you, visit our list of tutorials.  \n",
      "What is NordVPN\n",
      "Url: https://support.nordvpn.com/hc/en-us/articles/19685546104209-What-is-NordVPN\n",
      "Document 2:\n",
      "Title:   When purchasing a NordVPN subscription, you get access to the NordVPN application for Windows, Android, macOS, iOS, and Linux OS devices and the NordVPN proxy extension for your Chrome, Edge, and Firefox browsers. While both provide security and hide your online presence, they do have different additional benefits.  NordVPN extension's main benefits:  NordVPN proxy extension is a more lightweight version of the NordVPN application and does not ask for administrator rights for use.  The proxy extension only secures your browser traffic. To start using the extension, you can add it to your browser with a few simple clicks and avoid the application download and installation process. By clicking on the NordVPN logo in your browser, you can quickly connect/disconnect to 55 countries. The extension allows you to access blocked websites and streaming services without closing or minimizing your browser. You can choose websites you wish to exclude from the secure connection using the Split Tunneling feature.   NordVPN application main benefits:  Has different server categories such as Double VPN Servers, Obfuscated Servers, and Dedicated IP. Let's you choose between OpenVPN and Nordlynx connection protocols. You can prevent your device from making unprotected connections by using the Kill Switch feature. Offers a new secure communication between devices feature - Meshnet. Prevent others from exploiting account information leaked to the dangerous dark web while using the Dark Web Monitor feature.  Allows you to choose specific cities/regions.  Which product version you should use depends on your online security needs.  \n",
      "Should I choose NordVPN app or NordVPN extension?\n",
      "Url: https://support.nordvpn.com/hc/en-us/articles/20321910029585-Should-I-choose-NordVPN-app-or-NordVPN-extension\n",
      "Document 3:\n",
      "Title: NordVPN supports a number of security encryption protocols to provide a VPN service. The security levels and purposes of these VPN protocols are different, but so are our customers’ needs. We encourage you to take a closer look at the strengths and weaknesses of each VPN protocol. While we want you to be able to choose freely, we also feel it’s our duty to advise you on what might suit you best. 1. OpenVPN OpenVPN is a mature and robust piece of open-source software that enables us to provide a reliable and secure VPN service. It is a versatile VPN protocol that can be used on both TCP and UDP ports. OpenVPN supports a great number of strong encryption algorithms and ciphers: to ensure the protection of your data, we use AES-256-GCM with a 4096-bit DH key. If you are conscious about your security and are wondering what the most stable NordVPN protocol is, we recommend OpenVPN. 2. WireGuard (NordLynx) (Recommended by NordVPN and used by default in most of our apps) WireGuard is the newest and fastest tunneling protocol, and the entire VPN industry is talking about it. It uses state-of-the-art cryptography that outshines the current leader, OpenVPN. However, it’s still considered experimental, so VPN providers need to look for new solutions (like NordLynx by NordVPN) to overcome WireGuard’s vulnerabilities. Modern, extremely fast, and incredibly lean in its architecture, WireGuard is backed by thorough academic research. WireGuard consists of only 4,000 lines of code, making it easy to deploy, audit, and fix. To put it into perspective, OpenVPN runs on 400,000 lines of code, meaning that WireGuard makes up only 1% of OpenVPN’s massive architecture.  NordLynx is currently used by default in NordVPN apps. If you’re wondering which VPN protocol is best for gaming or other online speed-dependent activities, the answer is always NordLynx.\n",
      "Which NordVPN protocol should I choose\n",
      "Url: https://support.nordvpn.com/hc/en-us/articles/19482810153745-Which-NordVPN-protocol-should-I-choose\n",
      "Document 4:\n",
      "Title:   Can I use NordVPN for business?  To guarantee a secure connection for you and your business, NordSecurity Team has created a separate product - NordLayer. The NordLayer is an excellent VPN solution for business, that allows you to protect your data from people outside your company, manage your team members and teams, provide secure remote access to companies network, and get a dedicated server with a dedicated IP address. Why is a VPN important for business? Every day various organizations experience cyberattacks and data breaches. In order to avoid unauthorized access to your company's sensitive data, a NordVPN business solution NordLayer is a great option. NordLayer also offers many other features that can be found here. How do I set up a VPN for my business?  Sign up for the NordLayer service by clicking here. A dedicated sales team member will reach out to you. Follow a guide on how to set up NordLayer using different operating systems.  \n",
      "NordVPN for business\n",
      "Url: https://support.nordvpn.com/hc/en-us/articles/20284072795665-NordVPN-for-business\n"
     ]
    }
   ],
   "source": [
    "context = \"\\nExtracted documents:\\n\"\n",
    "context = \"\\n\".join([\n",
    "    f\"Document {i + 1}:\\nTitle: {get_body_content(doc)[0]}\\n{get_body_content(doc)[1]}\\nUrl: {get_body_content(doc)[2]}\"\n",
    "    for i, doc in enumerate(results2)\n",
    "])\n",
    "print(context)"
   ]
  },
  {
   "cell_type": "code",
   "execution_count": null,
   "id": "5a7862f0",
   "metadata": {},
   "outputs": [],
   "source": []
  }
 ],
 "metadata": {
  "kernelspec": {
   "display_name": "tf",
   "language": "python",
   "name": "python3"
  },
  "language_info": {
   "codemirror_mode": {
    "name": "ipython",
    "version": 3
   },
   "file_extension": ".py",
   "mimetype": "text/x-python",
   "name": "python",
   "nbconvert_exporter": "python",
   "pygments_lexer": "ipython3",
   "version": "3.9.21"
  }
 },
 "nbformat": 4,
 "nbformat_minor": 5
}
